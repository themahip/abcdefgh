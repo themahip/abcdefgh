{
  "cells": [
    {
      "cell_type": "code",
      "source": [
        "import numpy as np\r\n",
        "import pandas as pd\r\n",
        "import matplotlib.pyplot as plt\r\n",
        "import seaborn as sns"
      ],
      "outputs": [],
      "execution_count": 79,
      "metadata": {
        "gather": {
          "logged": 1643622676561
        }
      }
    },
    {
      "cell_type": "code",
      "source": [
        "df = pd.read_json(\"ayurwiz_users.json\")\r\n",
        "df.head()"
      ],
      "outputs": [
        {
          "output_type": "execute_result",
          "execution_count": 80,
          "data": {
            "text/plain": "                            Education     Sex              Career Fields  \\\n0                   Primary education  Female                       arts   \n1  Secondary education or high school   Other  culture and entertainment   \n2                 No formal education  Female     science and technology   \n3                   Bachelor's degree   Other                    farming   \n4                   Primary education    Male  culture and entertainment   \n\n       Relationship Status                   Hobbies  Age  \n0  IN AN OPEN RELATIONSHIP               Woodworking   24  \n1               THE BACKUP               Woodworking   33  \n2           THE SIDE PIECE                 Genealogy   45  \n3             PROUD SINGLE               Woodworking   38  \n4           THE BOOTY CALL  Video Games, Team Sports   36  ",
            "text/html": "<div>\n<style scoped>\n    .dataframe tbody tr th:only-of-type {\n        vertical-align: middle;\n    }\n\n    .dataframe tbody tr th {\n        vertical-align: top;\n    }\n\n    .dataframe thead th {\n        text-align: right;\n    }\n</style>\n<table border=\"1\" class=\"dataframe\">\n  <thead>\n    <tr style=\"text-align: right;\">\n      <th></th>\n      <th>Education</th>\n      <th>Sex</th>\n      <th>Career Fields</th>\n      <th>Relationship Status</th>\n      <th>Hobbies</th>\n      <th>Age</th>\n    </tr>\n  </thead>\n  <tbody>\n    <tr>\n      <th>0</th>\n      <td>Primary education</td>\n      <td>Female</td>\n      <td>arts</td>\n      <td>IN AN OPEN RELATIONSHIP</td>\n      <td>Woodworking</td>\n      <td>24</td>\n    </tr>\n    <tr>\n      <th>1</th>\n      <td>Secondary education or high school</td>\n      <td>Other</td>\n      <td>culture and entertainment</td>\n      <td>THE BACKUP</td>\n      <td>Woodworking</td>\n      <td>33</td>\n    </tr>\n    <tr>\n      <th>2</th>\n      <td>No formal education</td>\n      <td>Female</td>\n      <td>science and technology</td>\n      <td>THE SIDE PIECE</td>\n      <td>Genealogy</td>\n      <td>45</td>\n    </tr>\n    <tr>\n      <th>3</th>\n      <td>Bachelor's degree</td>\n      <td>Other</td>\n      <td>farming</td>\n      <td>PROUD SINGLE</td>\n      <td>Woodworking</td>\n      <td>38</td>\n    </tr>\n    <tr>\n      <th>4</th>\n      <td>Primary education</td>\n      <td>Male</td>\n      <td>culture and entertainment</td>\n      <td>THE BOOTY CALL</td>\n      <td>Video Games, Team Sports</td>\n      <td>36</td>\n    </tr>\n  </tbody>\n</table>\n</div>"
          },
          "metadata": {}
        }
      ],
      "execution_count": 80,
      "metadata": {
        "jupyter": {
          "source_hidden": false,
          "outputs_hidden": false
        },
        "nteract": {
          "transient": {
            "deleting": false
          }
        },
        "gather": {
          "logged": 1643622677706
        }
      }
    },
    {
      "cell_type": "code",
      "source": [
        "df.info()"
      ],
      "outputs": [
        {
          "output_type": "stream",
          "name": "stdout",
          "text": "<class 'pandas.core.frame.DataFrame'>\nRangeIndex: 2607 entries, 0 to 2606\nData columns (total 6 columns):\nEducation              2607 non-null object\nSex                    2607 non-null object\nCareer Fields          2607 non-null object\nRelationship Status    2607 non-null object\nHobbies                2607 non-null object\nAge                    2607 non-null int64\ndtypes: int64(1), object(5)\nmemory usage: 122.3+ KB\n"
        }
      ],
      "execution_count": 81,
      "metadata": {
        "jupyter": {
          "source_hidden": false,
          "outputs_hidden": false
        },
        "nteract": {
          "transient": {
            "deleting": false
          }
        },
        "gather": {
          "logged": 1643622678857
        }
      }
    },
    {
      "cell_type": "code",
      "source": [
        "df.describe()"
      ],
      "outputs": [
        {
          "output_type": "execute_result",
          "execution_count": 82,
          "data": {
            "text/plain": "               Age\ncount  2607.000000\nmean     31.454929\nstd       8.071544\nmin      18.000000\n25%      24.000000\n50%      32.000000\n75%      38.000000\nmax      45.000000",
            "text/html": "<div>\n<style scoped>\n    .dataframe tbody tr th:only-of-type {\n        vertical-align: middle;\n    }\n\n    .dataframe tbody tr th {\n        vertical-align: top;\n    }\n\n    .dataframe thead th {\n        text-align: right;\n    }\n</style>\n<table border=\"1\" class=\"dataframe\">\n  <thead>\n    <tr style=\"text-align: right;\">\n      <th></th>\n      <th>Age</th>\n    </tr>\n  </thead>\n  <tbody>\n    <tr>\n      <th>count</th>\n      <td>2607.000000</td>\n    </tr>\n    <tr>\n      <th>mean</th>\n      <td>31.454929</td>\n    </tr>\n    <tr>\n      <th>std</th>\n      <td>8.071544</td>\n    </tr>\n    <tr>\n      <th>min</th>\n      <td>18.000000</td>\n    </tr>\n    <tr>\n      <th>25%</th>\n      <td>24.000000</td>\n    </tr>\n    <tr>\n      <th>50%</th>\n      <td>32.000000</td>\n    </tr>\n    <tr>\n      <th>75%</th>\n      <td>38.000000</td>\n    </tr>\n    <tr>\n      <th>max</th>\n      <td>45.000000</td>\n    </tr>\n  </tbody>\n</table>\n</div>"
          },
          "metadata": {}
        }
      ],
      "execution_count": 82,
      "metadata": {
        "jupyter": {
          "source_hidden": false,
          "outputs_hidden": false
        },
        "nteract": {
          "transient": {
            "deleting": false
          }
        },
        "gather": {
          "logged": 1643622679597
        }
      }
    },
    {
      "cell_type": "markdown",
      "source": [
        "## Now, we are converting the textual categorical data into the numeric."
      ],
      "metadata": {
        "nteract": {
          "transient": {
            "deleting": false
          }
        }
      }
    },
    {
      "cell_type": "markdown",
      "source": [
        "### Label encoding the education data since there's the relation in order. "
      ],
      "metadata": {
        "nteract": {
          "transient": {
            "deleting": false
          }
        }
      }
    },
    {
      "cell_type": "markdown",
      "source": [
        "However, GED and Highschool education might be the same thing and we will assume that vocational qualification and highschool diploma are equivalent in our case. "
      ],
      "metadata": {
        "nteract": {
          "transient": {
            "deleting": false
          }
        }
      }
    },
    {
      "cell_type": "code",
      "source": [
        "df['Education'] = df['Education'].replace(['GED', 'Vocational qualification'], 'Secondary education or high school')\r\n",
        "df.head(20)"
      ],
      "outputs": [
        {
          "output_type": "execute_result",
          "execution_count": 83,
          "data": {
            "text/plain": "                             Education     Sex                  Career Fields  \\\n0                    Primary education  Female                           arts   \n1   Secondary education or high school   Other      culture and entertainment   \n2                  No formal education  Female         science and technology   \n3                    Bachelor's degree   Other                        farming   \n4                    Primary education    Male      culture and entertainment   \n5   Secondary education or high school  Female                 communications   \n6                    Primary education    Male                      education   \n7                    Bachelor's degree   Other   architecture and engineering   \n8                  Doctorate or higher    Male  management and administration   \n9                    Bachelor's degree    Male            health and medicine   \n10                     Master's degree    Male      culture and entertainment   \n11                     Master's degree   Other            health and medicine   \n12                 No formal education   Other                        farming   \n13                 Doctorate or higher   Other                          sales   \n14  Secondary education or high school   Other                 communications   \n15  Secondary education or high school  Female                          sales   \n16  Secondary education or high school  Female                   installation   \n17                   Primary education    Male         science and technology   \n18                     Master's degree   Other      culture and entertainment   \n19                 Doctorate or higher  Female                 communications   \n\n          Relationship Status  \\\n0     IN AN OPEN RELATIONSHIP   \n1                  THE BACKUP   \n2              THE SIDE PIECE   \n3                PROUD SINGLE   \n4              THE BOOTY CALL   \n5     IN AN OPEN RELATIONSHIP   \n6            HAPPILY COMMITED   \n7     IN AN OPEN RELATIONSHIP   \n8            HAPPILY COMMITED   \n9              THE SIDE PIECE   \n10           HAPPILY COMMITED   \n11       “TALKING TO” SOMEONE   \n12  IN AN “OPEN” RELATIONSHIP   \n13           HAPPILY COMMITED   \n14           HAPPILY COMMITED   \n15  IN AN “OPEN” RELATIONSHIP   \n16              A PLACEHOLDER   \n17               PROUD SINGLE   \n18           IT’S COMPLICATED   \n19    IN AN OPEN RELATIONSHIP   \n\n                                              Hobbies  Age  \n0                                         Woodworking   24  \n1                                         Woodworking   33  \n2                                           Genealogy   45  \n3                                         Woodworking   38  \n4                            Video Games, Team Sports   36  \n5    Eating Out, Golf, Reading, Painting, Video Games   40  \n6    Eating Out, Golf, Reading, Painting, Video Games   29  \n7                                     Yoga, Traveling   38  \n8                                            Podcasts   27  \n9                                            Podcasts   42  \n10                                    Yoga, Traveling   33  \n11   Eating Out, Golf, Reading, Painting, Video Games   43  \n12                                          Genealogy   45  \n13                               Cooking, Calligraphy   22  \n14                                           Podcasts   40  \n15                     Traveling, Collecting, Cooking   21  \n16  Movie Watching, Dancing, Reading, Jewelry Maki...   32  \n17                                    Yoga, Traveling   24  \n18   Eating Out, Golf, Reading, Painting, Video Games   42  \n19                                          Genealogy   34  ",
            "text/html": "<div>\n<style scoped>\n    .dataframe tbody tr th:only-of-type {\n        vertical-align: middle;\n    }\n\n    .dataframe tbody tr th {\n        vertical-align: top;\n    }\n\n    .dataframe thead th {\n        text-align: right;\n    }\n</style>\n<table border=\"1\" class=\"dataframe\">\n  <thead>\n    <tr style=\"text-align: right;\">\n      <th></th>\n      <th>Education</th>\n      <th>Sex</th>\n      <th>Career Fields</th>\n      <th>Relationship Status</th>\n      <th>Hobbies</th>\n      <th>Age</th>\n    </tr>\n  </thead>\n  <tbody>\n    <tr>\n      <th>0</th>\n      <td>Primary education</td>\n      <td>Female</td>\n      <td>arts</td>\n      <td>IN AN OPEN RELATIONSHIP</td>\n      <td>Woodworking</td>\n      <td>24</td>\n    </tr>\n    <tr>\n      <th>1</th>\n      <td>Secondary education or high school</td>\n      <td>Other</td>\n      <td>culture and entertainment</td>\n      <td>THE BACKUP</td>\n      <td>Woodworking</td>\n      <td>33</td>\n    </tr>\n    <tr>\n      <th>2</th>\n      <td>No formal education</td>\n      <td>Female</td>\n      <td>science and technology</td>\n      <td>THE SIDE PIECE</td>\n      <td>Genealogy</td>\n      <td>45</td>\n    </tr>\n    <tr>\n      <th>3</th>\n      <td>Bachelor's degree</td>\n      <td>Other</td>\n      <td>farming</td>\n      <td>PROUD SINGLE</td>\n      <td>Woodworking</td>\n      <td>38</td>\n    </tr>\n    <tr>\n      <th>4</th>\n      <td>Primary education</td>\n      <td>Male</td>\n      <td>culture and entertainment</td>\n      <td>THE BOOTY CALL</td>\n      <td>Video Games, Team Sports</td>\n      <td>36</td>\n    </tr>\n    <tr>\n      <th>5</th>\n      <td>Secondary education or high school</td>\n      <td>Female</td>\n      <td>communications</td>\n      <td>IN AN OPEN RELATIONSHIP</td>\n      <td>Eating Out, Golf, Reading, Painting, Video Games</td>\n      <td>40</td>\n    </tr>\n    <tr>\n      <th>6</th>\n      <td>Primary education</td>\n      <td>Male</td>\n      <td>education</td>\n      <td>HAPPILY COMMITED</td>\n      <td>Eating Out, Golf, Reading, Painting, Video Games</td>\n      <td>29</td>\n    </tr>\n    <tr>\n      <th>7</th>\n      <td>Bachelor's degree</td>\n      <td>Other</td>\n      <td>architecture and engineering</td>\n      <td>IN AN OPEN RELATIONSHIP</td>\n      <td>Yoga, Traveling</td>\n      <td>38</td>\n    </tr>\n    <tr>\n      <th>8</th>\n      <td>Doctorate or higher</td>\n      <td>Male</td>\n      <td>management and administration</td>\n      <td>HAPPILY COMMITED</td>\n      <td>Podcasts</td>\n      <td>27</td>\n    </tr>\n    <tr>\n      <th>9</th>\n      <td>Bachelor's degree</td>\n      <td>Male</td>\n      <td>health and medicine</td>\n      <td>THE SIDE PIECE</td>\n      <td>Podcasts</td>\n      <td>42</td>\n    </tr>\n    <tr>\n      <th>10</th>\n      <td>Master's degree</td>\n      <td>Male</td>\n      <td>culture and entertainment</td>\n      <td>HAPPILY COMMITED</td>\n      <td>Yoga, Traveling</td>\n      <td>33</td>\n    </tr>\n    <tr>\n      <th>11</th>\n      <td>Master's degree</td>\n      <td>Other</td>\n      <td>health and medicine</td>\n      <td>“TALKING TO” SOMEONE</td>\n      <td>Eating Out, Golf, Reading, Painting, Video Games</td>\n      <td>43</td>\n    </tr>\n    <tr>\n      <th>12</th>\n      <td>No formal education</td>\n      <td>Other</td>\n      <td>farming</td>\n      <td>IN AN “OPEN” RELATIONSHIP</td>\n      <td>Genealogy</td>\n      <td>45</td>\n    </tr>\n    <tr>\n      <th>13</th>\n      <td>Doctorate or higher</td>\n      <td>Other</td>\n      <td>sales</td>\n      <td>HAPPILY COMMITED</td>\n      <td>Cooking, Calligraphy</td>\n      <td>22</td>\n    </tr>\n    <tr>\n      <th>14</th>\n      <td>Secondary education or high school</td>\n      <td>Other</td>\n      <td>communications</td>\n      <td>HAPPILY COMMITED</td>\n      <td>Podcasts</td>\n      <td>40</td>\n    </tr>\n    <tr>\n      <th>15</th>\n      <td>Secondary education or high school</td>\n      <td>Female</td>\n      <td>sales</td>\n      <td>IN AN “OPEN” RELATIONSHIP</td>\n      <td>Traveling, Collecting, Cooking</td>\n      <td>21</td>\n    </tr>\n    <tr>\n      <th>16</th>\n      <td>Secondary education or high school</td>\n      <td>Female</td>\n      <td>installation</td>\n      <td>A PLACEHOLDER</td>\n      <td>Movie Watching, Dancing, Reading, Jewelry Maki...</td>\n      <td>32</td>\n    </tr>\n    <tr>\n      <th>17</th>\n      <td>Primary education</td>\n      <td>Male</td>\n      <td>science and technology</td>\n      <td>PROUD SINGLE</td>\n      <td>Yoga, Traveling</td>\n      <td>24</td>\n    </tr>\n    <tr>\n      <th>18</th>\n      <td>Master's degree</td>\n      <td>Other</td>\n      <td>culture and entertainment</td>\n      <td>IT’S COMPLICATED</td>\n      <td>Eating Out, Golf, Reading, Painting, Video Games</td>\n      <td>42</td>\n    </tr>\n    <tr>\n      <th>19</th>\n      <td>Doctorate or higher</td>\n      <td>Female</td>\n      <td>communications</td>\n      <td>IN AN OPEN RELATIONSHIP</td>\n      <td>Genealogy</td>\n      <td>34</td>\n    </tr>\n  </tbody>\n</table>\n</div>"
          },
          "metadata": {}
        }
      ],
      "execution_count": 83,
      "metadata": {
        "jupyter": {
          "source_hidden": false,
          "outputs_hidden": false
        },
        "nteract": {
          "transient": {
            "deleting": false
          }
        },
        "gather": {
          "logged": 1643622684795
        }
      }
    },
    {
      "cell_type": "code",
      "source": [
        "# label encoding the education column.\r\n",
        "from sklearn import preprocessing\r\n",
        "\r\n",
        "le = preprocessing.LabelEncoder()\r\n",
        "df['Education'] = le.fit_transform(df.Education)\r\n",
        "df.head(20)"
      ],
      "outputs": [
        {
          "output_type": "execute_result",
          "execution_count": 84,
          "data": {
            "text/plain": "    Education     Sex                  Career Fields  \\\n0           4  Female                           arts   \n1           5   Other      culture and entertainment   \n2           3  Female         science and technology   \n3           0   Other                        farming   \n4           4    Male      culture and entertainment   \n5           5  Female                 communications   \n6           4    Male                      education   \n7           0   Other   architecture and engineering   \n8           1    Male  management and administration   \n9           0    Male            health and medicine   \n10          2    Male      culture and entertainment   \n11          2   Other            health and medicine   \n12          3   Other                        farming   \n13          1   Other                          sales   \n14          5   Other                 communications   \n15          5  Female                          sales   \n16          5  Female                   installation   \n17          4    Male         science and technology   \n18          2   Other      culture and entertainment   \n19          1  Female                 communications   \n\n          Relationship Status  \\\n0     IN AN OPEN RELATIONSHIP   \n1                  THE BACKUP   \n2              THE SIDE PIECE   \n3                PROUD SINGLE   \n4              THE BOOTY CALL   \n5     IN AN OPEN RELATIONSHIP   \n6            HAPPILY COMMITED   \n7     IN AN OPEN RELATIONSHIP   \n8            HAPPILY COMMITED   \n9              THE SIDE PIECE   \n10           HAPPILY COMMITED   \n11       “TALKING TO” SOMEONE   \n12  IN AN “OPEN” RELATIONSHIP   \n13           HAPPILY COMMITED   \n14           HAPPILY COMMITED   \n15  IN AN “OPEN” RELATIONSHIP   \n16              A PLACEHOLDER   \n17               PROUD SINGLE   \n18           IT’S COMPLICATED   \n19    IN AN OPEN RELATIONSHIP   \n\n                                              Hobbies  Age  \n0                                         Woodworking   24  \n1                                         Woodworking   33  \n2                                           Genealogy   45  \n3                                         Woodworking   38  \n4                            Video Games, Team Sports   36  \n5    Eating Out, Golf, Reading, Painting, Video Games   40  \n6    Eating Out, Golf, Reading, Painting, Video Games   29  \n7                                     Yoga, Traveling   38  \n8                                            Podcasts   27  \n9                                            Podcasts   42  \n10                                    Yoga, Traveling   33  \n11   Eating Out, Golf, Reading, Painting, Video Games   43  \n12                                          Genealogy   45  \n13                               Cooking, Calligraphy   22  \n14                                           Podcasts   40  \n15                     Traveling, Collecting, Cooking   21  \n16  Movie Watching, Dancing, Reading, Jewelry Maki...   32  \n17                                    Yoga, Traveling   24  \n18   Eating Out, Golf, Reading, Painting, Video Games   42  \n19                                          Genealogy   34  ",
            "text/html": "<div>\n<style scoped>\n    .dataframe tbody tr th:only-of-type {\n        vertical-align: middle;\n    }\n\n    .dataframe tbody tr th {\n        vertical-align: top;\n    }\n\n    .dataframe thead th {\n        text-align: right;\n    }\n</style>\n<table border=\"1\" class=\"dataframe\">\n  <thead>\n    <tr style=\"text-align: right;\">\n      <th></th>\n      <th>Education</th>\n      <th>Sex</th>\n      <th>Career Fields</th>\n      <th>Relationship Status</th>\n      <th>Hobbies</th>\n      <th>Age</th>\n    </tr>\n  </thead>\n  <tbody>\n    <tr>\n      <th>0</th>\n      <td>4</td>\n      <td>Female</td>\n      <td>arts</td>\n      <td>IN AN OPEN RELATIONSHIP</td>\n      <td>Woodworking</td>\n      <td>24</td>\n    </tr>\n    <tr>\n      <th>1</th>\n      <td>5</td>\n      <td>Other</td>\n      <td>culture and entertainment</td>\n      <td>THE BACKUP</td>\n      <td>Woodworking</td>\n      <td>33</td>\n    </tr>\n    <tr>\n      <th>2</th>\n      <td>3</td>\n      <td>Female</td>\n      <td>science and technology</td>\n      <td>THE SIDE PIECE</td>\n      <td>Genealogy</td>\n      <td>45</td>\n    </tr>\n    <tr>\n      <th>3</th>\n      <td>0</td>\n      <td>Other</td>\n      <td>farming</td>\n      <td>PROUD SINGLE</td>\n      <td>Woodworking</td>\n      <td>38</td>\n    </tr>\n    <tr>\n      <th>4</th>\n      <td>4</td>\n      <td>Male</td>\n      <td>culture and entertainment</td>\n      <td>THE BOOTY CALL</td>\n      <td>Video Games, Team Sports</td>\n      <td>36</td>\n    </tr>\n    <tr>\n      <th>5</th>\n      <td>5</td>\n      <td>Female</td>\n      <td>communications</td>\n      <td>IN AN OPEN RELATIONSHIP</td>\n      <td>Eating Out, Golf, Reading, Painting, Video Games</td>\n      <td>40</td>\n    </tr>\n    <tr>\n      <th>6</th>\n      <td>4</td>\n      <td>Male</td>\n      <td>education</td>\n      <td>HAPPILY COMMITED</td>\n      <td>Eating Out, Golf, Reading, Painting, Video Games</td>\n      <td>29</td>\n    </tr>\n    <tr>\n      <th>7</th>\n      <td>0</td>\n      <td>Other</td>\n      <td>architecture and engineering</td>\n      <td>IN AN OPEN RELATIONSHIP</td>\n      <td>Yoga, Traveling</td>\n      <td>38</td>\n    </tr>\n    <tr>\n      <th>8</th>\n      <td>1</td>\n      <td>Male</td>\n      <td>management and administration</td>\n      <td>HAPPILY COMMITED</td>\n      <td>Podcasts</td>\n      <td>27</td>\n    </tr>\n    <tr>\n      <th>9</th>\n      <td>0</td>\n      <td>Male</td>\n      <td>health and medicine</td>\n      <td>THE SIDE PIECE</td>\n      <td>Podcasts</td>\n      <td>42</td>\n    </tr>\n    <tr>\n      <th>10</th>\n      <td>2</td>\n      <td>Male</td>\n      <td>culture and entertainment</td>\n      <td>HAPPILY COMMITED</td>\n      <td>Yoga, Traveling</td>\n      <td>33</td>\n    </tr>\n    <tr>\n      <th>11</th>\n      <td>2</td>\n      <td>Other</td>\n      <td>health and medicine</td>\n      <td>“TALKING TO” SOMEONE</td>\n      <td>Eating Out, Golf, Reading, Painting, Video Games</td>\n      <td>43</td>\n    </tr>\n    <tr>\n      <th>12</th>\n      <td>3</td>\n      <td>Other</td>\n      <td>farming</td>\n      <td>IN AN “OPEN” RELATIONSHIP</td>\n      <td>Genealogy</td>\n      <td>45</td>\n    </tr>\n    <tr>\n      <th>13</th>\n      <td>1</td>\n      <td>Other</td>\n      <td>sales</td>\n      <td>HAPPILY COMMITED</td>\n      <td>Cooking, Calligraphy</td>\n      <td>22</td>\n    </tr>\n    <tr>\n      <th>14</th>\n      <td>5</td>\n      <td>Other</td>\n      <td>communications</td>\n      <td>HAPPILY COMMITED</td>\n      <td>Podcasts</td>\n      <td>40</td>\n    </tr>\n    <tr>\n      <th>15</th>\n      <td>5</td>\n      <td>Female</td>\n      <td>sales</td>\n      <td>IN AN “OPEN” RELATIONSHIP</td>\n      <td>Traveling, Collecting, Cooking</td>\n      <td>21</td>\n    </tr>\n    <tr>\n      <th>16</th>\n      <td>5</td>\n      <td>Female</td>\n      <td>installation</td>\n      <td>A PLACEHOLDER</td>\n      <td>Movie Watching, Dancing, Reading, Jewelry Maki...</td>\n      <td>32</td>\n    </tr>\n    <tr>\n      <th>17</th>\n      <td>4</td>\n      <td>Male</td>\n      <td>science and technology</td>\n      <td>PROUD SINGLE</td>\n      <td>Yoga, Traveling</td>\n      <td>24</td>\n    </tr>\n    <tr>\n      <th>18</th>\n      <td>2</td>\n      <td>Other</td>\n      <td>culture and entertainment</td>\n      <td>IT’S COMPLICATED</td>\n      <td>Eating Out, Golf, Reading, Painting, Video Games</td>\n      <td>42</td>\n    </tr>\n    <tr>\n      <th>19</th>\n      <td>1</td>\n      <td>Female</td>\n      <td>communications</td>\n      <td>IN AN OPEN RELATIONSHIP</td>\n      <td>Genealogy</td>\n      <td>34</td>\n    </tr>\n  </tbody>\n</table>\n</div>"
          },
          "metadata": {}
        }
      ],
      "execution_count": 84,
      "metadata": {
        "jupyter": {
          "source_hidden": false,
          "outputs_hidden": false
        },
        "nteract": {
          "transient": {
            "deleting": false
          }
        },
        "gather": {
          "logged": 1643622686422
        }
      }
    },
    {
      "cell_type": "markdown",
      "source": [
        "### One-hot encoding the sex column. "
      ],
      "metadata": {
        "nteract": {
          "transient": {
            "deleting": false
          }
        }
      }
    },
    {
      "cell_type": "code",
      "source": [
        "# get the dummies and store it in a variable\r\n",
        "dummies = pd.get_dummies(df.Sex)\r\n",
        "\r\n",
        "\r\n",
        "# Concatenate the dummies to original dataframe\r\n",
        "df2 = pd.concat([df, dummies], axis = 'columns')\r\n",
        "\r\n",
        "# Dropping one column to avoid dummy variable trap\r\n",
        "df2 = df2.drop(['Sex', 'Other'], axis='columns')\r\n",
        "df2.head(10)"
      ],
      "outputs": [
        {
          "output_type": "execute_result",
          "execution_count": 85,
          "data": {
            "text/plain": "   Education                  Career Fields      Relationship Status  \\\n0          4                           arts  IN AN OPEN RELATIONSHIP   \n1          5      culture and entertainment               THE BACKUP   \n2          3         science and technology           THE SIDE PIECE   \n3          0                        farming             PROUD SINGLE   \n4          4      culture and entertainment           THE BOOTY CALL   \n5          5                 communications  IN AN OPEN RELATIONSHIP   \n6          4                      education         HAPPILY COMMITED   \n7          0   architecture and engineering  IN AN OPEN RELATIONSHIP   \n8          1  management and administration         HAPPILY COMMITED   \n9          0            health and medicine           THE SIDE PIECE   \n\n                                            Hobbies  Age  Female  Male  \n0                                       Woodworking   24       1     0  \n1                                       Woodworking   33       0     0  \n2                                         Genealogy   45       1     0  \n3                                       Woodworking   38       0     0  \n4                          Video Games, Team Sports   36       0     1  \n5  Eating Out, Golf, Reading, Painting, Video Games   40       1     0  \n6  Eating Out, Golf, Reading, Painting, Video Games   29       0     1  \n7                                   Yoga, Traveling   38       0     0  \n8                                          Podcasts   27       0     1  \n9                                          Podcasts   42       0     1  ",
            "text/html": "<div>\n<style scoped>\n    .dataframe tbody tr th:only-of-type {\n        vertical-align: middle;\n    }\n\n    .dataframe tbody tr th {\n        vertical-align: top;\n    }\n\n    .dataframe thead th {\n        text-align: right;\n    }\n</style>\n<table border=\"1\" class=\"dataframe\">\n  <thead>\n    <tr style=\"text-align: right;\">\n      <th></th>\n      <th>Education</th>\n      <th>Career Fields</th>\n      <th>Relationship Status</th>\n      <th>Hobbies</th>\n      <th>Age</th>\n      <th>Female</th>\n      <th>Male</th>\n    </tr>\n  </thead>\n  <tbody>\n    <tr>\n      <th>0</th>\n      <td>4</td>\n      <td>arts</td>\n      <td>IN AN OPEN RELATIONSHIP</td>\n      <td>Woodworking</td>\n      <td>24</td>\n      <td>1</td>\n      <td>0</td>\n    </tr>\n    <tr>\n      <th>1</th>\n      <td>5</td>\n      <td>culture and entertainment</td>\n      <td>THE BACKUP</td>\n      <td>Woodworking</td>\n      <td>33</td>\n      <td>0</td>\n      <td>0</td>\n    </tr>\n    <tr>\n      <th>2</th>\n      <td>3</td>\n      <td>science and technology</td>\n      <td>THE SIDE PIECE</td>\n      <td>Genealogy</td>\n      <td>45</td>\n      <td>1</td>\n      <td>0</td>\n    </tr>\n    <tr>\n      <th>3</th>\n      <td>0</td>\n      <td>farming</td>\n      <td>PROUD SINGLE</td>\n      <td>Woodworking</td>\n      <td>38</td>\n      <td>0</td>\n      <td>0</td>\n    </tr>\n    <tr>\n      <th>4</th>\n      <td>4</td>\n      <td>culture and entertainment</td>\n      <td>THE BOOTY CALL</td>\n      <td>Video Games, Team Sports</td>\n      <td>36</td>\n      <td>0</td>\n      <td>1</td>\n    </tr>\n    <tr>\n      <th>5</th>\n      <td>5</td>\n      <td>communications</td>\n      <td>IN AN OPEN RELATIONSHIP</td>\n      <td>Eating Out, Golf, Reading, Painting, Video Games</td>\n      <td>40</td>\n      <td>1</td>\n      <td>0</td>\n    </tr>\n    <tr>\n      <th>6</th>\n      <td>4</td>\n      <td>education</td>\n      <td>HAPPILY COMMITED</td>\n      <td>Eating Out, Golf, Reading, Painting, Video Games</td>\n      <td>29</td>\n      <td>0</td>\n      <td>1</td>\n    </tr>\n    <tr>\n      <th>7</th>\n      <td>0</td>\n      <td>architecture and engineering</td>\n      <td>IN AN OPEN RELATIONSHIP</td>\n      <td>Yoga, Traveling</td>\n      <td>38</td>\n      <td>0</td>\n      <td>0</td>\n    </tr>\n    <tr>\n      <th>8</th>\n      <td>1</td>\n      <td>management and administration</td>\n      <td>HAPPILY COMMITED</td>\n      <td>Podcasts</td>\n      <td>27</td>\n      <td>0</td>\n      <td>1</td>\n    </tr>\n    <tr>\n      <th>9</th>\n      <td>0</td>\n      <td>health and medicine</td>\n      <td>THE SIDE PIECE</td>\n      <td>Podcasts</td>\n      <td>42</td>\n      <td>0</td>\n      <td>1</td>\n    </tr>\n  </tbody>\n</table>\n</div>"
          },
          "metadata": {}
        }
      ],
      "execution_count": 85,
      "metadata": {
        "jupyter": {
          "source_hidden": false,
          "outputs_hidden": false
        },
        "nteract": {
          "transient": {
            "deleting": false
          }
        },
        "gather": {
          "logged": 1643622691245
        }
      }
    },
    {
      "cell_type": "markdown",
      "source": [
        "## One hot encoding the career fields. "
      ],
      "metadata": {
        "nteract": {
          "transient": {
            "deleting": false
          }
        }
      }
    },
    {
      "cell_type": "code",
      "source": [
        "# get the dummies and store it in a variable\r\n",
        "dummies = pd.get_dummies(df2['Career Fields'])\r\n",
        "\r\n",
        "\r\n",
        "# Concatenate the dummies to original dataframe\r\n",
        "df3 = pd.concat([df2, dummies], axis = 'columns')\r\n",
        "\r\n",
        "# Dropping one column to avoid dummy variable trap\r\n",
        "df3 = df3.drop(['Career Fields', 'sales'], axis='columns')\r\n",
        "df3.head(10)"
      ],
      "outputs": [
        {
          "output_type": "execute_result",
          "execution_count": 86,
          "data": {
            "text/plain": "   Education      Relationship Status  \\\n0          4  IN AN OPEN RELATIONSHIP   \n1          5               THE BACKUP   \n2          3           THE SIDE PIECE   \n3          0             PROUD SINGLE   \n4          4           THE BOOTY CALL   \n5          5  IN AN OPEN RELATIONSHIP   \n6          4         HAPPILY COMMITED   \n7          0  IN AN OPEN RELATIONSHIP   \n8          1         HAPPILY COMMITED   \n9          0           THE SIDE PIECE   \n\n                                            Hobbies  Age  Female  Male  \\\n0                                       Woodworking   24       1     0   \n1                                       Woodworking   33       0     0   \n2                                         Genealogy   45       1     0   \n3                                       Woodworking   38       0     0   \n4                          Video Games, Team Sports   36       0     1   \n5  Eating Out, Golf, Reading, Painting, Video Games   40       1     0   \n6  Eating Out, Golf, Reading, Painting, Video Games   29       0     1   \n7                                   Yoga, Traveling   38       0     0   \n8                                          Podcasts   27       0     1   \n9                                          Podcasts   42       0     1   \n\n    farming   law and public policy  architecture and engineering  arts  ...  \\\n0         0                       0                             0     1  ...   \n1         0                       0                             0     0  ...   \n2         0                       0                             0     0  ...   \n3         1                       0                             0     0  ...   \n4         0                       0                             0     0  ...   \n5         0                       0                             0     0  ...   \n6         0                       0                             0     0  ...   \n7         0                       0                             1     0  ...   \n8         0                       0                             0     0  ...   \n9         0                       0                             0     0  ...   \n\n   community and social services  culture and entertainment  education  \\\n0                              0                          0          0   \n1                              0                          1          0   \n2                              0                          0          0   \n3                              0                          0          0   \n4                              0                          1          0   \n5                              0                          0          0   \n6                              0                          0          1   \n7                              0                          0          0   \n8                              0                          0          0   \n9                              0                          0          0   \n\n   fishing and forestry  government  health and medicine  installation  \\\n0                     0           0                    0             0   \n1                     0           0                    0             0   \n2                     0           0                    0             0   \n3                     0           0                    0             0   \n4                     0           0                    0             0   \n5                     0           0                    0             0   \n6                     0           0                    0             0   \n7                     0           0                    0             0   \n8                     0           0                    0             0   \n9                     0           0                    1             0   \n\n   management and administration  repair and maintenance  \\\n0                              0                       0   \n1                              0                       0   \n2                              0                       0   \n3                              0                       0   \n4                              0                       0   \n5                              0                       0   \n6                              0                       0   \n7                              0                       0   \n8                              1                       0   \n9                              0                       0   \n\n   science and technology  \n0                       0  \n1                       0  \n2                       1  \n3                       0  \n4                       0  \n5                       0  \n6                       0  \n7                       0  \n8                       0  \n9                       0  \n\n[10 rows x 22 columns]",
            "text/html": "<div>\n<style scoped>\n    .dataframe tbody tr th:only-of-type {\n        vertical-align: middle;\n    }\n\n    .dataframe tbody tr th {\n        vertical-align: top;\n    }\n\n    .dataframe thead th {\n        text-align: right;\n    }\n</style>\n<table border=\"1\" class=\"dataframe\">\n  <thead>\n    <tr style=\"text-align: right;\">\n      <th></th>\n      <th>Education</th>\n      <th>Relationship Status</th>\n      <th>Hobbies</th>\n      <th>Age</th>\n      <th>Female</th>\n      <th>Male</th>\n      <th>farming</th>\n      <th>law and public policy</th>\n      <th>architecture and engineering</th>\n      <th>arts</th>\n      <th>...</th>\n      <th>community and social services</th>\n      <th>culture and entertainment</th>\n      <th>education</th>\n      <th>fishing and forestry</th>\n      <th>government</th>\n      <th>health and medicine</th>\n      <th>installation</th>\n      <th>management and administration</th>\n      <th>repair and maintenance</th>\n      <th>science and technology</th>\n    </tr>\n  </thead>\n  <tbody>\n    <tr>\n      <th>0</th>\n      <td>4</td>\n      <td>IN AN OPEN RELATIONSHIP</td>\n      <td>Woodworking</td>\n      <td>24</td>\n      <td>1</td>\n      <td>0</td>\n      <td>0</td>\n      <td>0</td>\n      <td>0</td>\n      <td>1</td>\n      <td>...</td>\n      <td>0</td>\n      <td>0</td>\n      <td>0</td>\n      <td>0</td>\n      <td>0</td>\n      <td>0</td>\n      <td>0</td>\n      <td>0</td>\n      <td>0</td>\n      <td>0</td>\n    </tr>\n    <tr>\n      <th>1</th>\n      <td>5</td>\n      <td>THE BACKUP</td>\n      <td>Woodworking</td>\n      <td>33</td>\n      <td>0</td>\n      <td>0</td>\n      <td>0</td>\n      <td>0</td>\n      <td>0</td>\n      <td>0</td>\n      <td>...</td>\n      <td>0</td>\n      <td>1</td>\n      <td>0</td>\n      <td>0</td>\n      <td>0</td>\n      <td>0</td>\n      <td>0</td>\n      <td>0</td>\n      <td>0</td>\n      <td>0</td>\n    </tr>\n    <tr>\n      <th>2</th>\n      <td>3</td>\n      <td>THE SIDE PIECE</td>\n      <td>Genealogy</td>\n      <td>45</td>\n      <td>1</td>\n      <td>0</td>\n      <td>0</td>\n      <td>0</td>\n      <td>0</td>\n      <td>0</td>\n      <td>...</td>\n      <td>0</td>\n      <td>0</td>\n      <td>0</td>\n      <td>0</td>\n      <td>0</td>\n      <td>0</td>\n      <td>0</td>\n      <td>0</td>\n      <td>0</td>\n      <td>1</td>\n    </tr>\n    <tr>\n      <th>3</th>\n      <td>0</td>\n      <td>PROUD SINGLE</td>\n      <td>Woodworking</td>\n      <td>38</td>\n      <td>0</td>\n      <td>0</td>\n      <td>1</td>\n      <td>0</td>\n      <td>0</td>\n      <td>0</td>\n      <td>...</td>\n      <td>0</td>\n      <td>0</td>\n      <td>0</td>\n      <td>0</td>\n      <td>0</td>\n      <td>0</td>\n      <td>0</td>\n      <td>0</td>\n      <td>0</td>\n      <td>0</td>\n    </tr>\n    <tr>\n      <th>4</th>\n      <td>4</td>\n      <td>THE BOOTY CALL</td>\n      <td>Video Games, Team Sports</td>\n      <td>36</td>\n      <td>0</td>\n      <td>1</td>\n      <td>0</td>\n      <td>0</td>\n      <td>0</td>\n      <td>0</td>\n      <td>...</td>\n      <td>0</td>\n      <td>1</td>\n      <td>0</td>\n      <td>0</td>\n      <td>0</td>\n      <td>0</td>\n      <td>0</td>\n      <td>0</td>\n      <td>0</td>\n      <td>0</td>\n    </tr>\n    <tr>\n      <th>5</th>\n      <td>5</td>\n      <td>IN AN OPEN RELATIONSHIP</td>\n      <td>Eating Out, Golf, Reading, Painting, Video Games</td>\n      <td>40</td>\n      <td>1</td>\n      <td>0</td>\n      <td>0</td>\n      <td>0</td>\n      <td>0</td>\n      <td>0</td>\n      <td>...</td>\n      <td>0</td>\n      <td>0</td>\n      <td>0</td>\n      <td>0</td>\n      <td>0</td>\n      <td>0</td>\n      <td>0</td>\n      <td>0</td>\n      <td>0</td>\n      <td>0</td>\n    </tr>\n    <tr>\n      <th>6</th>\n      <td>4</td>\n      <td>HAPPILY COMMITED</td>\n      <td>Eating Out, Golf, Reading, Painting, Video Games</td>\n      <td>29</td>\n      <td>0</td>\n      <td>1</td>\n      <td>0</td>\n      <td>0</td>\n      <td>0</td>\n      <td>0</td>\n      <td>...</td>\n      <td>0</td>\n      <td>0</td>\n      <td>1</td>\n      <td>0</td>\n      <td>0</td>\n      <td>0</td>\n      <td>0</td>\n      <td>0</td>\n      <td>0</td>\n      <td>0</td>\n    </tr>\n    <tr>\n      <th>7</th>\n      <td>0</td>\n      <td>IN AN OPEN RELATIONSHIP</td>\n      <td>Yoga, Traveling</td>\n      <td>38</td>\n      <td>0</td>\n      <td>0</td>\n      <td>0</td>\n      <td>0</td>\n      <td>1</td>\n      <td>0</td>\n      <td>...</td>\n      <td>0</td>\n      <td>0</td>\n      <td>0</td>\n      <td>0</td>\n      <td>0</td>\n      <td>0</td>\n      <td>0</td>\n      <td>0</td>\n      <td>0</td>\n      <td>0</td>\n    </tr>\n    <tr>\n      <th>8</th>\n      <td>1</td>\n      <td>HAPPILY COMMITED</td>\n      <td>Podcasts</td>\n      <td>27</td>\n      <td>0</td>\n      <td>1</td>\n      <td>0</td>\n      <td>0</td>\n      <td>0</td>\n      <td>0</td>\n      <td>...</td>\n      <td>0</td>\n      <td>0</td>\n      <td>0</td>\n      <td>0</td>\n      <td>0</td>\n      <td>0</td>\n      <td>0</td>\n      <td>1</td>\n      <td>0</td>\n      <td>0</td>\n    </tr>\n    <tr>\n      <th>9</th>\n      <td>0</td>\n      <td>THE SIDE PIECE</td>\n      <td>Podcasts</td>\n      <td>42</td>\n      <td>0</td>\n      <td>1</td>\n      <td>0</td>\n      <td>0</td>\n      <td>0</td>\n      <td>0</td>\n      <td>...</td>\n      <td>0</td>\n      <td>0</td>\n      <td>0</td>\n      <td>0</td>\n      <td>0</td>\n      <td>1</td>\n      <td>0</td>\n      <td>0</td>\n      <td>0</td>\n      <td>0</td>\n    </tr>\n  </tbody>\n</table>\n<p>10 rows × 22 columns</p>\n</div>"
          },
          "metadata": {}
        }
      ],
      "execution_count": 86,
      "metadata": {
        "jupyter": {
          "source_hidden": false,
          "outputs_hidden": false
        },
        "nteract": {
          "transient": {
            "deleting": false
          }
        },
        "gather": {
          "logged": 1643622696079
        }
      }
    },
    {
      "cell_type": "markdown",
      "source": [
        "## One hot encoding of relationship status:"
      ],
      "metadata": {
        "nteract": {
          "transient": {
            "deleting": false
          }
        }
      }
    },
    {
      "cell_type": "code",
      "source": [
        "# get the dummies and store it in a variable\r\n",
        "dummies = pd.get_dummies(df3['Relationship Status'])\r\n",
        "\r\n",
        "\r\n",
        "# Concatenate the dummies to original dataframe\r\n",
        "df4 = pd.concat([df3, dummies], axis = 'columns')\r\n",
        "\r\n",
        "# Dropping one column to avoid dummy variable trap\r\n",
        "df4 = df4.drop(['Relationship Status', 'HAPPILY COMMITED'], axis='columns')\r\n",
        "df4.head(10)"
      ],
      "outputs": [
        {
          "output_type": "execute_result",
          "execution_count": 87,
          "data": {
            "text/plain": "   Education                                           Hobbies  Age  Female  \\\n0          4                                       Woodworking   24       1   \n1          5                                       Woodworking   33       0   \n2          3                                         Genealogy   45       1   \n3          0                                       Woodworking   38       0   \n4          4                          Video Games, Team Sports   36       0   \n5          5  Eating Out, Golf, Reading, Painting, Video Games   40       1   \n6          4  Eating Out, Golf, Reading, Painting, Video Games   29       0   \n7          0                                   Yoga, Traveling   38       0   \n8          1                                          Podcasts   27       0   \n9          0                                          Podcasts   42       0   \n\n   Male   farming   law and public policy  architecture and engineering  arts  \\\n0     0         0                       0                             0     1   \n1     0         0                       0                             0     0   \n2     0         0                       0                             0     0   \n3     0         1                       0                             0     0   \n4     1         0                       0                             0     0   \n5     0         0                       0                             0     0   \n6     1         0                       0                             0     0   \n7     0         0                       0                             1     0   \n8     1         0                       0                             0     0   \n9     1         0                       0                             0     0   \n\n   business  ...  BROKEN SOUL  FRIENDS WITH BENEFITS  \\\n0         0  ...            0                      0   \n1         0  ...            0                      0   \n2         0  ...            0                      0   \n3         0  ...            0                      0   \n4         0  ...            0                      0   \n5         0  ...            0                      0   \n6         0  ...            0                      0   \n7         0  ...            0                      0   \n8         0  ...            0                      0   \n9         0  ...            0                      0   \n\n   IN A “SUGAR” RELATIONSHIP  IN AN OPEN RELATIONSHIP  \\\n0                          0                        1   \n1                          0                        0   \n2                          0                        0   \n3                          0                        0   \n4                          0                        0   \n5                          0                        1   \n6                          0                        0   \n7                          0                        1   \n8                          0                        0   \n9                          0                        0   \n\n   IN AN “OPEN” RELATIONSHIP  IT’S COMPLICATED  PROUD SINGLE  THE BACKUP  \\\n0                          0                 0             0           0   \n1                          0                 0             0           1   \n2                          0                 0             0           0   \n3                          0                 0             1           0   \n4                          0                 0             0           0   \n5                          0                 0             0           0   \n6                          0                 0             0           0   \n7                          0                 0             0           0   \n8                          0                 0             0           0   \n9                          0                 0             0           0   \n\n   THE BOOTY CALL  THE SIDE PIECE  \n0               0               0  \n1               0               0  \n2               0               1  \n3               0               0  \n4               1               0  \n5               0               0  \n6               0               0  \n7               0               0  \n8               0               0  \n9               0               1  \n\n[10 rows x 33 columns]",
            "text/html": "<div>\n<style scoped>\n    .dataframe tbody tr th:only-of-type {\n        vertical-align: middle;\n    }\n\n    .dataframe tbody tr th {\n        vertical-align: top;\n    }\n\n    .dataframe thead th {\n        text-align: right;\n    }\n</style>\n<table border=\"1\" class=\"dataframe\">\n  <thead>\n    <tr style=\"text-align: right;\">\n      <th></th>\n      <th>Education</th>\n      <th>Hobbies</th>\n      <th>Age</th>\n      <th>Female</th>\n      <th>Male</th>\n      <th>farming</th>\n      <th>law and public policy</th>\n      <th>architecture and engineering</th>\n      <th>arts</th>\n      <th>business</th>\n      <th>...</th>\n      <th>BROKEN SOUL</th>\n      <th>FRIENDS WITH BENEFITS</th>\n      <th>IN A “SUGAR” RELATIONSHIP</th>\n      <th>IN AN OPEN RELATIONSHIP</th>\n      <th>IN AN “OPEN” RELATIONSHIP</th>\n      <th>IT’S COMPLICATED</th>\n      <th>PROUD SINGLE</th>\n      <th>THE BACKUP</th>\n      <th>THE BOOTY CALL</th>\n      <th>THE SIDE PIECE</th>\n    </tr>\n  </thead>\n  <tbody>\n    <tr>\n      <th>0</th>\n      <td>4</td>\n      <td>Woodworking</td>\n      <td>24</td>\n      <td>1</td>\n      <td>0</td>\n      <td>0</td>\n      <td>0</td>\n      <td>0</td>\n      <td>1</td>\n      <td>0</td>\n      <td>...</td>\n      <td>0</td>\n      <td>0</td>\n      <td>0</td>\n      <td>1</td>\n      <td>0</td>\n      <td>0</td>\n      <td>0</td>\n      <td>0</td>\n      <td>0</td>\n      <td>0</td>\n    </tr>\n    <tr>\n      <th>1</th>\n      <td>5</td>\n      <td>Woodworking</td>\n      <td>33</td>\n      <td>0</td>\n      <td>0</td>\n      <td>0</td>\n      <td>0</td>\n      <td>0</td>\n      <td>0</td>\n      <td>0</td>\n      <td>...</td>\n      <td>0</td>\n      <td>0</td>\n      <td>0</td>\n      <td>0</td>\n      <td>0</td>\n      <td>0</td>\n      <td>0</td>\n      <td>1</td>\n      <td>0</td>\n      <td>0</td>\n    </tr>\n    <tr>\n      <th>2</th>\n      <td>3</td>\n      <td>Genealogy</td>\n      <td>45</td>\n      <td>1</td>\n      <td>0</td>\n      <td>0</td>\n      <td>0</td>\n      <td>0</td>\n      <td>0</td>\n      <td>0</td>\n      <td>...</td>\n      <td>0</td>\n      <td>0</td>\n      <td>0</td>\n      <td>0</td>\n      <td>0</td>\n      <td>0</td>\n      <td>0</td>\n      <td>0</td>\n      <td>0</td>\n      <td>1</td>\n    </tr>\n    <tr>\n      <th>3</th>\n      <td>0</td>\n      <td>Woodworking</td>\n      <td>38</td>\n      <td>0</td>\n      <td>0</td>\n      <td>1</td>\n      <td>0</td>\n      <td>0</td>\n      <td>0</td>\n      <td>0</td>\n      <td>...</td>\n      <td>0</td>\n      <td>0</td>\n      <td>0</td>\n      <td>0</td>\n      <td>0</td>\n      <td>0</td>\n      <td>1</td>\n      <td>0</td>\n      <td>0</td>\n      <td>0</td>\n    </tr>\n    <tr>\n      <th>4</th>\n      <td>4</td>\n      <td>Video Games, Team Sports</td>\n      <td>36</td>\n      <td>0</td>\n      <td>1</td>\n      <td>0</td>\n      <td>0</td>\n      <td>0</td>\n      <td>0</td>\n      <td>0</td>\n      <td>...</td>\n      <td>0</td>\n      <td>0</td>\n      <td>0</td>\n      <td>0</td>\n      <td>0</td>\n      <td>0</td>\n      <td>0</td>\n      <td>0</td>\n      <td>1</td>\n      <td>0</td>\n    </tr>\n    <tr>\n      <th>5</th>\n      <td>5</td>\n      <td>Eating Out, Golf, Reading, Painting, Video Games</td>\n      <td>40</td>\n      <td>1</td>\n      <td>0</td>\n      <td>0</td>\n      <td>0</td>\n      <td>0</td>\n      <td>0</td>\n      <td>0</td>\n      <td>...</td>\n      <td>0</td>\n      <td>0</td>\n      <td>0</td>\n      <td>1</td>\n      <td>0</td>\n      <td>0</td>\n      <td>0</td>\n      <td>0</td>\n      <td>0</td>\n      <td>0</td>\n    </tr>\n    <tr>\n      <th>6</th>\n      <td>4</td>\n      <td>Eating Out, Golf, Reading, Painting, Video Games</td>\n      <td>29</td>\n      <td>0</td>\n      <td>1</td>\n      <td>0</td>\n      <td>0</td>\n      <td>0</td>\n      <td>0</td>\n      <td>0</td>\n      <td>...</td>\n      <td>0</td>\n      <td>0</td>\n      <td>0</td>\n      <td>0</td>\n      <td>0</td>\n      <td>0</td>\n      <td>0</td>\n      <td>0</td>\n      <td>0</td>\n      <td>0</td>\n    </tr>\n    <tr>\n      <th>7</th>\n      <td>0</td>\n      <td>Yoga, Traveling</td>\n      <td>38</td>\n      <td>0</td>\n      <td>0</td>\n      <td>0</td>\n      <td>0</td>\n      <td>1</td>\n      <td>0</td>\n      <td>0</td>\n      <td>...</td>\n      <td>0</td>\n      <td>0</td>\n      <td>0</td>\n      <td>1</td>\n      <td>0</td>\n      <td>0</td>\n      <td>0</td>\n      <td>0</td>\n      <td>0</td>\n      <td>0</td>\n    </tr>\n    <tr>\n      <th>8</th>\n      <td>1</td>\n      <td>Podcasts</td>\n      <td>27</td>\n      <td>0</td>\n      <td>1</td>\n      <td>0</td>\n      <td>0</td>\n      <td>0</td>\n      <td>0</td>\n      <td>0</td>\n      <td>...</td>\n      <td>0</td>\n      <td>0</td>\n      <td>0</td>\n      <td>0</td>\n      <td>0</td>\n      <td>0</td>\n      <td>0</td>\n      <td>0</td>\n      <td>0</td>\n      <td>0</td>\n    </tr>\n    <tr>\n      <th>9</th>\n      <td>0</td>\n      <td>Podcasts</td>\n      <td>42</td>\n      <td>0</td>\n      <td>1</td>\n      <td>0</td>\n      <td>0</td>\n      <td>0</td>\n      <td>0</td>\n      <td>0</td>\n      <td>...</td>\n      <td>0</td>\n      <td>0</td>\n      <td>0</td>\n      <td>0</td>\n      <td>0</td>\n      <td>0</td>\n      <td>0</td>\n      <td>0</td>\n      <td>0</td>\n      <td>1</td>\n    </tr>\n  </tbody>\n</table>\n<p>10 rows × 33 columns</p>\n</div>"
          },
          "metadata": {}
        }
      ],
      "execution_count": 87,
      "metadata": {
        "jupyter": {
          "source_hidden": false,
          "outputs_hidden": false
        },
        "nteract": {
          "transient": {
            "deleting": false
          }
        },
        "gather": {
          "logged": 1643622702554
        }
      }
    },
    {
      "cell_type": "markdown",
      "source": [
        "# Splicing hobbies into multiple columns."
      ],
      "metadata": {
        "nteract": {
          "transient": {
            "deleting": false
          }
        }
      }
    },
    {
      "cell_type": "code",
      "source": [
        "df4['Hobbies'] = df4['Hobbies'].astype(str)\r\n",
        "type(df4['Hobbies'][0])"
      ],
      "outputs": [
        {
          "output_type": "execute_result",
          "execution_count": 88,
          "data": {
            "text/plain": "str"
          },
          "metadata": {}
        }
      ],
      "execution_count": 88,
      "metadata": {
        "jupyter": {
          "source_hidden": false,
          "outputs_hidden": false
        },
        "nteract": {
          "transient": {
            "deleting": false
          }
        },
        "gather": {
          "logged": 1643622713766
        }
      }
    },
    {
      "cell_type": "code",
      "source": [
        "df4['Hobbies'] = df4['Hobbies'].str.strip().str.split(',')\r\n",
        "df4.head()"
      ],
      "outputs": [
        {
          "output_type": "execute_result",
          "execution_count": 89,
          "data": {
            "text/plain": "   Education                      Hobbies  Age  Female  Male   farming  \\\n0          4                [Woodworking]   24       1     0         0   \n1          5                [Woodworking]   33       0     0         0   \n2          3                  [Genealogy]   45       1     0         0   \n3          0                [Woodworking]   38       0     0         1   \n4          4  [Video Games,  Team Sports]   36       0     1         0   \n\n    law and public policy  architecture and engineering  arts  business  ...  \\\n0                       0                             0     1         0  ...   \n1                       0                             0     0         0  ...   \n2                       0                             0     0         0  ...   \n3                       0                             0     0         0  ...   \n4                       0                             0     0         0  ...   \n\n   BROKEN SOUL  FRIENDS WITH BENEFITS  IN A “SUGAR” RELATIONSHIP  \\\n0            0                      0                          0   \n1            0                      0                          0   \n2            0                      0                          0   \n3            0                      0                          0   \n4            0                      0                          0   \n\n   IN AN OPEN RELATIONSHIP  IN AN “OPEN” RELATIONSHIP  IT’S COMPLICATED  \\\n0                        1                          0                 0   \n1                        0                          0                 0   \n2                        0                          0                 0   \n3                        0                          0                 0   \n4                        0                          0                 0   \n\n   PROUD SINGLE  THE BACKUP  THE BOOTY CALL  THE SIDE PIECE  \n0             0           0               0               0  \n1             0           1               0               0  \n2             0           0               0               1  \n3             1           0               0               0  \n4             0           0               1               0  \n\n[5 rows x 33 columns]",
            "text/html": "<div>\n<style scoped>\n    .dataframe tbody tr th:only-of-type {\n        vertical-align: middle;\n    }\n\n    .dataframe tbody tr th {\n        vertical-align: top;\n    }\n\n    .dataframe thead th {\n        text-align: right;\n    }\n</style>\n<table border=\"1\" class=\"dataframe\">\n  <thead>\n    <tr style=\"text-align: right;\">\n      <th></th>\n      <th>Education</th>\n      <th>Hobbies</th>\n      <th>Age</th>\n      <th>Female</th>\n      <th>Male</th>\n      <th>farming</th>\n      <th>law and public policy</th>\n      <th>architecture and engineering</th>\n      <th>arts</th>\n      <th>business</th>\n      <th>...</th>\n      <th>BROKEN SOUL</th>\n      <th>FRIENDS WITH BENEFITS</th>\n      <th>IN A “SUGAR” RELATIONSHIP</th>\n      <th>IN AN OPEN RELATIONSHIP</th>\n      <th>IN AN “OPEN” RELATIONSHIP</th>\n      <th>IT’S COMPLICATED</th>\n      <th>PROUD SINGLE</th>\n      <th>THE BACKUP</th>\n      <th>THE BOOTY CALL</th>\n      <th>THE SIDE PIECE</th>\n    </tr>\n  </thead>\n  <tbody>\n    <tr>\n      <th>0</th>\n      <td>4</td>\n      <td>[Woodworking]</td>\n      <td>24</td>\n      <td>1</td>\n      <td>0</td>\n      <td>0</td>\n      <td>0</td>\n      <td>0</td>\n      <td>1</td>\n      <td>0</td>\n      <td>...</td>\n      <td>0</td>\n      <td>0</td>\n      <td>0</td>\n      <td>1</td>\n      <td>0</td>\n      <td>0</td>\n      <td>0</td>\n      <td>0</td>\n      <td>0</td>\n      <td>0</td>\n    </tr>\n    <tr>\n      <th>1</th>\n      <td>5</td>\n      <td>[Woodworking]</td>\n      <td>33</td>\n      <td>0</td>\n      <td>0</td>\n      <td>0</td>\n      <td>0</td>\n      <td>0</td>\n      <td>0</td>\n      <td>0</td>\n      <td>...</td>\n      <td>0</td>\n      <td>0</td>\n      <td>0</td>\n      <td>0</td>\n      <td>0</td>\n      <td>0</td>\n      <td>0</td>\n      <td>1</td>\n      <td>0</td>\n      <td>0</td>\n    </tr>\n    <tr>\n      <th>2</th>\n      <td>3</td>\n      <td>[Genealogy]</td>\n      <td>45</td>\n      <td>1</td>\n      <td>0</td>\n      <td>0</td>\n      <td>0</td>\n      <td>0</td>\n      <td>0</td>\n      <td>0</td>\n      <td>...</td>\n      <td>0</td>\n      <td>0</td>\n      <td>0</td>\n      <td>0</td>\n      <td>0</td>\n      <td>0</td>\n      <td>0</td>\n      <td>0</td>\n      <td>0</td>\n      <td>1</td>\n    </tr>\n    <tr>\n      <th>3</th>\n      <td>0</td>\n      <td>[Woodworking]</td>\n      <td>38</td>\n      <td>0</td>\n      <td>0</td>\n      <td>1</td>\n      <td>0</td>\n      <td>0</td>\n      <td>0</td>\n      <td>0</td>\n      <td>...</td>\n      <td>0</td>\n      <td>0</td>\n      <td>0</td>\n      <td>0</td>\n      <td>0</td>\n      <td>0</td>\n      <td>1</td>\n      <td>0</td>\n      <td>0</td>\n      <td>0</td>\n    </tr>\n    <tr>\n      <th>4</th>\n      <td>4</td>\n      <td>[Video Games,  Team Sports]</td>\n      <td>36</td>\n      <td>0</td>\n      <td>1</td>\n      <td>0</td>\n      <td>0</td>\n      <td>0</td>\n      <td>0</td>\n      <td>0</td>\n      <td>...</td>\n      <td>0</td>\n      <td>0</td>\n      <td>0</td>\n      <td>0</td>\n      <td>0</td>\n      <td>0</td>\n      <td>0</td>\n      <td>0</td>\n      <td>1</td>\n      <td>0</td>\n    </tr>\n  </tbody>\n</table>\n<p>5 rows × 33 columns</p>\n</div>"
          },
          "metadata": {}
        }
      ],
      "execution_count": 89,
      "metadata": {
        "jupyter": {
          "source_hidden": false,
          "outputs_hidden": false
        },
        "nteract": {
          "transient": {
            "deleting": false
          }
        },
        "gather": {
          "logged": 1643622719983
        }
      }
    },
    {
      "cell_type": "code",
      "source": [
        "df4 = df4.explode('Hobbies')"
      ],
      "outputs": [],
      "execution_count": 92,
      "metadata": {
        "jupyter": {
          "source_hidden": false,
          "outputs_hidden": false
        },
        "nteract": {
          "transient": {
            "deleting": false
          }
        },
        "gather": {
          "logged": 1643622820333
        }
      }
    },
    {
      "cell_type": "code",
      "source": [
        "df4.head(10)"
      ],
      "outputs": [
        {
          "output_type": "execute_result",
          "execution_count": 93,
          "data": {
            "text/plain": "   Education       Hobbies  Age  Female  Male   farming  \\\n0          4   Woodworking   24       1     0         0   \n1          5   Woodworking   33       0     0         0   \n2          3     Genealogy   45       1     0         0   \n3          0   Woodworking   38       0     0         1   \n4          4   Video Games   36       0     1         0   \n4          4   Team Sports   36       0     1         0   \n5          5    Eating Out   40       1     0         0   \n5          5          Golf   40       1     0         0   \n5          5       Reading   40       1     0         0   \n5          5      Painting   40       1     0         0   \n\n    law and public policy  architecture and engineering  arts  business  ...  \\\n0                       0                             0     1         0  ...   \n1                       0                             0     0         0  ...   \n2                       0                             0     0         0  ...   \n3                       0                             0     0         0  ...   \n4                       0                             0     0         0  ...   \n4                       0                             0     0         0  ...   \n5                       0                             0     0         0  ...   \n5                       0                             0     0         0  ...   \n5                       0                             0     0         0  ...   \n5                       0                             0     0         0  ...   \n\n   BROKEN SOUL  FRIENDS WITH BENEFITS  IN A “SUGAR” RELATIONSHIP  \\\n0            0                      0                          0   \n1            0                      0                          0   \n2            0                      0                          0   \n3            0                      0                          0   \n4            0                      0                          0   \n4            0                      0                          0   \n5            0                      0                          0   \n5            0                      0                          0   \n5            0                      0                          0   \n5            0                      0                          0   \n\n   IN AN OPEN RELATIONSHIP  IN AN “OPEN” RELATIONSHIP  IT’S COMPLICATED  \\\n0                        1                          0                 0   \n1                        0                          0                 0   \n2                        0                          0                 0   \n3                        0                          0                 0   \n4                        0                          0                 0   \n4                        0                          0                 0   \n5                        1                          0                 0   \n5                        1                          0                 0   \n5                        1                          0                 0   \n5                        1                          0                 0   \n\n   PROUD SINGLE  THE BACKUP  THE BOOTY CALL  THE SIDE PIECE  \n0             0           0               0               0  \n1             0           1               0               0  \n2             0           0               0               1  \n3             1           0               0               0  \n4             0           0               1               0  \n4             0           0               1               0  \n5             0           0               0               0  \n5             0           0               0               0  \n5             0           0               0               0  \n5             0           0               0               0  \n\n[10 rows x 33 columns]",
            "text/html": "<div>\n<style scoped>\n    .dataframe tbody tr th:only-of-type {\n        vertical-align: middle;\n    }\n\n    .dataframe tbody tr th {\n        vertical-align: top;\n    }\n\n    .dataframe thead th {\n        text-align: right;\n    }\n</style>\n<table border=\"1\" class=\"dataframe\">\n  <thead>\n    <tr style=\"text-align: right;\">\n      <th></th>\n      <th>Education</th>\n      <th>Hobbies</th>\n      <th>Age</th>\n      <th>Female</th>\n      <th>Male</th>\n      <th>farming</th>\n      <th>law and public policy</th>\n      <th>architecture and engineering</th>\n      <th>arts</th>\n      <th>business</th>\n      <th>...</th>\n      <th>BROKEN SOUL</th>\n      <th>FRIENDS WITH BENEFITS</th>\n      <th>IN A “SUGAR” RELATIONSHIP</th>\n      <th>IN AN OPEN RELATIONSHIP</th>\n      <th>IN AN “OPEN” RELATIONSHIP</th>\n      <th>IT’S COMPLICATED</th>\n      <th>PROUD SINGLE</th>\n      <th>THE BACKUP</th>\n      <th>THE BOOTY CALL</th>\n      <th>THE SIDE PIECE</th>\n    </tr>\n  </thead>\n  <tbody>\n    <tr>\n      <th>0</th>\n      <td>4</td>\n      <td>Woodworking</td>\n      <td>24</td>\n      <td>1</td>\n      <td>0</td>\n      <td>0</td>\n      <td>0</td>\n      <td>0</td>\n      <td>1</td>\n      <td>0</td>\n      <td>...</td>\n      <td>0</td>\n      <td>0</td>\n      <td>0</td>\n      <td>1</td>\n      <td>0</td>\n      <td>0</td>\n      <td>0</td>\n      <td>0</td>\n      <td>0</td>\n      <td>0</td>\n    </tr>\n    <tr>\n      <th>1</th>\n      <td>5</td>\n      <td>Woodworking</td>\n      <td>33</td>\n      <td>0</td>\n      <td>0</td>\n      <td>0</td>\n      <td>0</td>\n      <td>0</td>\n      <td>0</td>\n      <td>0</td>\n      <td>...</td>\n      <td>0</td>\n      <td>0</td>\n      <td>0</td>\n      <td>0</td>\n      <td>0</td>\n      <td>0</td>\n      <td>0</td>\n      <td>1</td>\n      <td>0</td>\n      <td>0</td>\n    </tr>\n    <tr>\n      <th>2</th>\n      <td>3</td>\n      <td>Genealogy</td>\n      <td>45</td>\n      <td>1</td>\n      <td>0</td>\n      <td>0</td>\n      <td>0</td>\n      <td>0</td>\n      <td>0</td>\n      <td>0</td>\n      <td>...</td>\n      <td>0</td>\n      <td>0</td>\n      <td>0</td>\n      <td>0</td>\n      <td>0</td>\n      <td>0</td>\n      <td>0</td>\n      <td>0</td>\n      <td>0</td>\n      <td>1</td>\n    </tr>\n    <tr>\n      <th>3</th>\n      <td>0</td>\n      <td>Woodworking</td>\n      <td>38</td>\n      <td>0</td>\n      <td>0</td>\n      <td>1</td>\n      <td>0</td>\n      <td>0</td>\n      <td>0</td>\n      <td>0</td>\n      <td>...</td>\n      <td>0</td>\n      <td>0</td>\n      <td>0</td>\n      <td>0</td>\n      <td>0</td>\n      <td>0</td>\n      <td>1</td>\n      <td>0</td>\n      <td>0</td>\n      <td>0</td>\n    </tr>\n    <tr>\n      <th>4</th>\n      <td>4</td>\n      <td>Video Games</td>\n      <td>36</td>\n      <td>0</td>\n      <td>1</td>\n      <td>0</td>\n      <td>0</td>\n      <td>0</td>\n      <td>0</td>\n      <td>0</td>\n      <td>...</td>\n      <td>0</td>\n      <td>0</td>\n      <td>0</td>\n      <td>0</td>\n      <td>0</td>\n      <td>0</td>\n      <td>0</td>\n      <td>0</td>\n      <td>1</td>\n      <td>0</td>\n    </tr>\n    <tr>\n      <th>4</th>\n      <td>4</td>\n      <td>Team Sports</td>\n      <td>36</td>\n      <td>0</td>\n      <td>1</td>\n      <td>0</td>\n      <td>0</td>\n      <td>0</td>\n      <td>0</td>\n      <td>0</td>\n      <td>...</td>\n      <td>0</td>\n      <td>0</td>\n      <td>0</td>\n      <td>0</td>\n      <td>0</td>\n      <td>0</td>\n      <td>0</td>\n      <td>0</td>\n      <td>1</td>\n      <td>0</td>\n    </tr>\n    <tr>\n      <th>5</th>\n      <td>5</td>\n      <td>Eating Out</td>\n      <td>40</td>\n      <td>1</td>\n      <td>0</td>\n      <td>0</td>\n      <td>0</td>\n      <td>0</td>\n      <td>0</td>\n      <td>0</td>\n      <td>...</td>\n      <td>0</td>\n      <td>0</td>\n      <td>0</td>\n      <td>1</td>\n      <td>0</td>\n      <td>0</td>\n      <td>0</td>\n      <td>0</td>\n      <td>0</td>\n      <td>0</td>\n    </tr>\n    <tr>\n      <th>5</th>\n      <td>5</td>\n      <td>Golf</td>\n      <td>40</td>\n      <td>1</td>\n      <td>0</td>\n      <td>0</td>\n      <td>0</td>\n      <td>0</td>\n      <td>0</td>\n      <td>0</td>\n      <td>...</td>\n      <td>0</td>\n      <td>0</td>\n      <td>0</td>\n      <td>1</td>\n      <td>0</td>\n      <td>0</td>\n      <td>0</td>\n      <td>0</td>\n      <td>0</td>\n      <td>0</td>\n    </tr>\n    <tr>\n      <th>5</th>\n      <td>5</td>\n      <td>Reading</td>\n      <td>40</td>\n      <td>1</td>\n      <td>0</td>\n      <td>0</td>\n      <td>0</td>\n      <td>0</td>\n      <td>0</td>\n      <td>0</td>\n      <td>...</td>\n      <td>0</td>\n      <td>0</td>\n      <td>0</td>\n      <td>1</td>\n      <td>0</td>\n      <td>0</td>\n      <td>0</td>\n      <td>0</td>\n      <td>0</td>\n      <td>0</td>\n    </tr>\n    <tr>\n      <th>5</th>\n      <td>5</td>\n      <td>Painting</td>\n      <td>40</td>\n      <td>1</td>\n      <td>0</td>\n      <td>0</td>\n      <td>0</td>\n      <td>0</td>\n      <td>0</td>\n      <td>0</td>\n      <td>...</td>\n      <td>0</td>\n      <td>0</td>\n      <td>0</td>\n      <td>1</td>\n      <td>0</td>\n      <td>0</td>\n      <td>0</td>\n      <td>0</td>\n      <td>0</td>\n      <td>0</td>\n    </tr>\n  </tbody>\n</table>\n<p>10 rows × 33 columns</p>\n</div>"
          },
          "metadata": {}
        }
      ],
      "execution_count": 93,
      "metadata": {
        "jupyter": {
          "source_hidden": false,
          "outputs_hidden": false
        },
        "nteract": {
          "transient": {
            "deleting": false
          }
        },
        "gather": {
          "logged": 1643622824655
        }
      }
    },
    {
      "cell_type": "markdown",
      "source": [
        "## One hot encoding all the hobbies."
      ],
      "metadata": {
        "nteract": {
          "transient": {
            "deleting": false
          }
        }
      }
    },
    {
      "cell_type": "code",
      "source": [
        "# get the dummies and store it in a variable\r\n",
        "dummies = pd.get_dummies(df4['Hobbies'])\r\n",
        "\r\n",
        "\r\n",
        "# Concatenate the dummies to original dataframe\r\n",
        "df5 = pd.concat([df4, dummies], axis = 'columns')\r\n",
        "\r\n",
        "# Dropping one column to avoid dummy variable trap\r\n",
        "df5 = df5.drop(['Hobbies', 'Podcasts'], axis='columns')\r\n",
        "df5.head(10)"
      ],
      "outputs": [
        {
          "output_type": "execute_result",
          "execution_count": 96,
          "data": {
            "text/plain": "   Education  Age  Female  Male   farming   law and public policy  \\\n0          4   24       1     0         0                       0   \n1          5   33       0     0         0                       0   \n2          3   45       1     0         0                       0   \n3          0   38       0     0         1                       0   \n4          4   36       0     1         0                       0   \n4          4   36       0     1         0                       0   \n5          5   40       1     0         0                       0   \n5          5   40       1     0         0                       0   \n5          5   40       1     0         0                       0   \n5          5   40       1     0         0                       0   \n\n   architecture and engineering  arts  business  communications  ...  \\\n0                             0     1         0               0  ...   \n1                             0     0         0               0  ...   \n2                             0     0         0               0  ...   \n3                             0     0         0               0  ...   \n4                             0     0         0               0  ...   \n4                             0     0         0               0  ...   \n5                             0     0         0               1  ...   \n5                             0     0         0               1  ...   \n5                             0     0         0               1  ...   \n5                             0     0         0               1  ...   \n\n   Eating Out  Genealogy  Jewelry Making  Martial Arts  Movie Watching  \\\n0           0          0               0             0               0   \n1           0          0               0             0               0   \n2           0          1               0             0               0   \n3           0          0               0             0               0   \n4           0          0               0             0               0   \n4           0          0               0             0               0   \n5           1          0               0             0               0   \n5           0          0               0             0               0   \n5           0          0               0             0               0   \n5           0          0               0             0               0   \n\n   Religious Activities  Traveling  Video Games  Woodworking  Yoga  \n0                     0          0            0            1     0  \n1                     0          0            0            1     0  \n2                     0          0            0            0     0  \n3                     0          0            0            1     0  \n4                     0          0            1            0     0  \n4                     0          0            0            0     0  \n5                     0          0            0            0     0  \n5                     0          0            0            0     0  \n5                     0          0            0            0     0  \n5                     0          0            0            0     0  \n\n[10 rows x 59 columns]",
            "text/html": "<div>\n<style scoped>\n    .dataframe tbody tr th:only-of-type {\n        vertical-align: middle;\n    }\n\n    .dataframe tbody tr th {\n        vertical-align: top;\n    }\n\n    .dataframe thead th {\n        text-align: right;\n    }\n</style>\n<table border=\"1\" class=\"dataframe\">\n  <thead>\n    <tr style=\"text-align: right;\">\n      <th></th>\n      <th>Education</th>\n      <th>Age</th>\n      <th>Female</th>\n      <th>Male</th>\n      <th>farming</th>\n      <th>law and public policy</th>\n      <th>architecture and engineering</th>\n      <th>arts</th>\n      <th>business</th>\n      <th>communications</th>\n      <th>...</th>\n      <th>Eating Out</th>\n      <th>Genealogy</th>\n      <th>Jewelry Making</th>\n      <th>Martial Arts</th>\n      <th>Movie Watching</th>\n      <th>Religious Activities</th>\n      <th>Traveling</th>\n      <th>Video Games</th>\n      <th>Woodworking</th>\n      <th>Yoga</th>\n    </tr>\n  </thead>\n  <tbody>\n    <tr>\n      <th>0</th>\n      <td>4</td>\n      <td>24</td>\n      <td>1</td>\n      <td>0</td>\n      <td>0</td>\n      <td>0</td>\n      <td>0</td>\n      <td>1</td>\n      <td>0</td>\n      <td>0</td>\n      <td>...</td>\n      <td>0</td>\n      <td>0</td>\n      <td>0</td>\n      <td>0</td>\n      <td>0</td>\n      <td>0</td>\n      <td>0</td>\n      <td>0</td>\n      <td>1</td>\n      <td>0</td>\n    </tr>\n    <tr>\n      <th>1</th>\n      <td>5</td>\n      <td>33</td>\n      <td>0</td>\n      <td>0</td>\n      <td>0</td>\n      <td>0</td>\n      <td>0</td>\n      <td>0</td>\n      <td>0</td>\n      <td>0</td>\n      <td>...</td>\n      <td>0</td>\n      <td>0</td>\n      <td>0</td>\n      <td>0</td>\n      <td>0</td>\n      <td>0</td>\n      <td>0</td>\n      <td>0</td>\n      <td>1</td>\n      <td>0</td>\n    </tr>\n    <tr>\n      <th>2</th>\n      <td>3</td>\n      <td>45</td>\n      <td>1</td>\n      <td>0</td>\n      <td>0</td>\n      <td>0</td>\n      <td>0</td>\n      <td>0</td>\n      <td>0</td>\n      <td>0</td>\n      <td>...</td>\n      <td>0</td>\n      <td>1</td>\n      <td>0</td>\n      <td>0</td>\n      <td>0</td>\n      <td>0</td>\n      <td>0</td>\n      <td>0</td>\n      <td>0</td>\n      <td>0</td>\n    </tr>\n    <tr>\n      <th>3</th>\n      <td>0</td>\n      <td>38</td>\n      <td>0</td>\n      <td>0</td>\n      <td>1</td>\n      <td>0</td>\n      <td>0</td>\n      <td>0</td>\n      <td>0</td>\n      <td>0</td>\n      <td>...</td>\n      <td>0</td>\n      <td>0</td>\n      <td>0</td>\n      <td>0</td>\n      <td>0</td>\n      <td>0</td>\n      <td>0</td>\n      <td>0</td>\n      <td>1</td>\n      <td>0</td>\n    </tr>\n    <tr>\n      <th>4</th>\n      <td>4</td>\n      <td>36</td>\n      <td>0</td>\n      <td>1</td>\n      <td>0</td>\n      <td>0</td>\n      <td>0</td>\n      <td>0</td>\n      <td>0</td>\n      <td>0</td>\n      <td>...</td>\n      <td>0</td>\n      <td>0</td>\n      <td>0</td>\n      <td>0</td>\n      <td>0</td>\n      <td>0</td>\n      <td>0</td>\n      <td>1</td>\n      <td>0</td>\n      <td>0</td>\n    </tr>\n    <tr>\n      <th>4</th>\n      <td>4</td>\n      <td>36</td>\n      <td>0</td>\n      <td>1</td>\n      <td>0</td>\n      <td>0</td>\n      <td>0</td>\n      <td>0</td>\n      <td>0</td>\n      <td>0</td>\n      <td>...</td>\n      <td>0</td>\n      <td>0</td>\n      <td>0</td>\n      <td>0</td>\n      <td>0</td>\n      <td>0</td>\n      <td>0</td>\n      <td>0</td>\n      <td>0</td>\n      <td>0</td>\n    </tr>\n    <tr>\n      <th>5</th>\n      <td>5</td>\n      <td>40</td>\n      <td>1</td>\n      <td>0</td>\n      <td>0</td>\n      <td>0</td>\n      <td>0</td>\n      <td>0</td>\n      <td>0</td>\n      <td>1</td>\n      <td>...</td>\n      <td>1</td>\n      <td>0</td>\n      <td>0</td>\n      <td>0</td>\n      <td>0</td>\n      <td>0</td>\n      <td>0</td>\n      <td>0</td>\n      <td>0</td>\n      <td>0</td>\n    </tr>\n    <tr>\n      <th>5</th>\n      <td>5</td>\n      <td>40</td>\n      <td>1</td>\n      <td>0</td>\n      <td>0</td>\n      <td>0</td>\n      <td>0</td>\n      <td>0</td>\n      <td>0</td>\n      <td>1</td>\n      <td>...</td>\n      <td>0</td>\n      <td>0</td>\n      <td>0</td>\n      <td>0</td>\n      <td>0</td>\n      <td>0</td>\n      <td>0</td>\n      <td>0</td>\n      <td>0</td>\n      <td>0</td>\n    </tr>\n    <tr>\n      <th>5</th>\n      <td>5</td>\n      <td>40</td>\n      <td>1</td>\n      <td>0</td>\n      <td>0</td>\n      <td>0</td>\n      <td>0</td>\n      <td>0</td>\n      <td>0</td>\n      <td>1</td>\n      <td>...</td>\n      <td>0</td>\n      <td>0</td>\n      <td>0</td>\n      <td>0</td>\n      <td>0</td>\n      <td>0</td>\n      <td>0</td>\n      <td>0</td>\n      <td>0</td>\n      <td>0</td>\n    </tr>\n    <tr>\n      <th>5</th>\n      <td>5</td>\n      <td>40</td>\n      <td>1</td>\n      <td>0</td>\n      <td>0</td>\n      <td>0</td>\n      <td>0</td>\n      <td>0</td>\n      <td>0</td>\n      <td>1</td>\n      <td>...</td>\n      <td>0</td>\n      <td>0</td>\n      <td>0</td>\n      <td>0</td>\n      <td>0</td>\n      <td>0</td>\n      <td>0</td>\n      <td>0</td>\n      <td>0</td>\n      <td>0</td>\n    </tr>\n  </tbody>\n</table>\n<p>10 rows × 59 columns</p>\n</div>"
          },
          "metadata": {}
        }
      ],
      "execution_count": 96,
      "metadata": {
        "jupyter": {
          "source_hidden": false,
          "outputs_hidden": false
        },
        "nteract": {
          "transient": {
            "deleting": false
          }
        },
        "gather": {
          "logged": 1643623054529
        }
      }
    },
    {
      "cell_type": "markdown",
      "source": [
        "# K Means Cluster Creation"
      ],
      "metadata": {
        "nteract": {
          "transient": {
            "deleting": false
          }
        }
      }
    },
    {
      "cell_type": "code",
      "source": [
        "from sklearn.cluster import KMeans"
      ],
      "outputs": [],
      "execution_count": 99,
      "metadata": {
        "jupyter": {
          "source_hidden": false,
          "outputs_hidden": false
        },
        "nteract": {
          "transient": {
            "deleting": false
          }
        },
        "gather": {
          "logged": 1643623425456
        }
      }
    },
    {
      "cell_type": "code",
      "source": [
        "kmeans = KMeans(n_clusters=4)"
      ],
      "outputs": [],
      "execution_count": 101,
      "metadata": {
        "jupyter": {
          "source_hidden": false,
          "outputs_hidden": false
        },
        "nteract": {
          "transient": {
            "deleting": false
          }
        },
        "gather": {
          "logged": 1643623455694
        }
      }
    },
    {
      "cell_type": "code",
      "source": [
        "kmeans.fit(df5)"
      ],
      "outputs": [
        {
          "output_type": "execute_result",
          "execution_count": 103,
          "data": {
            "text/plain": "KMeans(algorithm='auto', copy_x=True, init='k-means++', max_iter=300,\n       n_clusters=4, n_init=10, n_jobs=None, precompute_distances='auto',\n       random_state=None, tol=0.0001, verbose=0)"
          },
          "metadata": {}
        }
      ],
      "execution_count": 103,
      "metadata": {
        "jupyter": {
          "source_hidden": false,
          "outputs_hidden": false
        },
        "nteract": {
          "transient": {
            "deleting": false
          }
        },
        "gather": {
          "logged": 1643623497484
        }
      }
    },
    {
      "cell_type": "code",
      "source": [
        "kmeans.cluster_centers_"
      ],
      "outputs": [
        {
          "output_type": "execute_result",
          "execution_count": 104,
          "data": {
            "text/plain": "array([[3.13092711e+00, 2.78216561e+01, 3.05732484e-01, 3.34748762e-01,\n        7.50176929e-02, 5.73248408e-02, 6.86482661e-02, 5.44939844e-02,\n        6.72328379e-02, 4.60014154e-02, 6.58174098e-02, 6.86482661e-02,\n        7.71408351e-02, 5.59094126e-02, 3.46779901e-02, 4.31705591e-02,\n        4.45859873e-02, 6.86482661e-02, 5.66171267e-02, 5.94479830e-02,\n        5.30785563e-02, 8.28025478e-02, 9.20028309e-02, 5.94479830e-02,\n        6.44019816e-02, 7.92639774e-02, 9.76645435e-02, 5.44939844e-02,\n        1.00495400e-01, 8.63411182e-02, 8.63411182e-02, 6.79405520e-02,\n        8.35102619e-02, 4.74168436e-02, 4.81245577e-02, 2.68931352e-02,\n        4.38782732e-02, 2.68931352e-02, 2.68931352e-02, 2.76008493e-02,\n        4.45859873e-02, 7.14791224e-02, 2.26468507e-02, 2.76008493e-02,\n        1.69851380e-02, 2.68931352e-02, 1.98159943e-02, 2.47699929e-02,\n        6.29865534e-02, 1.69851380e-02, 5.30785563e-02, 2.68931352e-02,\n        2.05237084e-02, 2.68931352e-02, 2.68931352e-02, 2.05237084e-02,\n        5.02476999e-02, 2.68931352e-02, 5.73248408e-02],\n       [3.17310345e+00, 4.18848276e+01, 3.26206897e-01, 3.31034483e-01,\n        5.10344828e-02, 5.86206897e-02, 5.58620690e-02, 5.58620690e-02,\n        5.58620690e-02, 5.79310345e-02, 6.13793103e-02, 6.41379310e-02,\n        5.58620690e-02, 3.51724138e-02, 7.31034483e-02, 4.89655172e-02,\n        5.24137931e-02, 6.96551724e-02, 6.27586207e-02, 7.44827586e-02,\n        1.02068966e-01, 8.27586207e-02, 6.68965517e-02, 6.55172414e-02,\n        7.10344828e-02, 8.68965517e-02, 9.10344828e-02, 5.93103448e-02,\n        6.13793103e-02, 7.10344828e-02, 6.41379310e-02, 8.34482759e-02,\n        6.89655172e-02, 6.06896552e-02, 4.68965517e-02, 2.48275862e-02,\n        5.86206897e-02, 2.48275862e-02, 2.48275862e-02, 2.20689655e-02,\n        4.48275862e-02, 6.96551724e-02, 3.31034483e-02, 1.51724138e-02,\n        2.27586207e-02, 3.58620690e-02, 2.34482759e-02, 2.96551724e-02,\n        5.10344828e-02, 2.27586207e-02, 5.31034483e-02, 2.41379310e-02,\n        1.79310345e-02, 2.48275862e-02, 3.58620690e-02, 2.48275862e-02,\n        5.51724138e-02, 1.79310345e-02, 4.06896552e-02],\n       [3.08523909e+00, 2.10568261e+01, 3.00069300e-01, 3.32640333e-01,\n        6.79140679e-02, 6.44490644e-02, 5.12820513e-02, 5.19750520e-02,\n        5.26680527e-02, 5.95980596e-02, 6.16770617e-02, 6.30630631e-02,\n        6.09840610e-02, 5.05890506e-02, 6.72210672e-02, 6.51420651e-02,\n        5.89050589e-02, 6.79140679e-02, 6.16770617e-02, 5.26680527e-02,\n        8.73180873e-02, 8.10810811e-02, 8.93970894e-02, 8.03880804e-02,\n        5.95980596e-02, 8.87040887e-02, 6.79140679e-02, 6.58350658e-02,\n        8.52390852e-02, 6.93000693e-02, 8.59320859e-02, 6.65280665e-02,\n        8.52390852e-02, 4.36590437e-02, 4.71240471e-02, 2.42550243e-02,\n        4.71240471e-02, 2.42550243e-02, 2.42550243e-02, 2.49480249e-02,\n        5.05890506e-02, 7.48440748e-02, 2.07900208e-02, 3.18780319e-02,\n        2.56410256e-02, 2.14830215e-02, 1.94040194e-02, 2.91060291e-02,\n        6.23700624e-02, 2.56410256e-02, 4.43520444e-02, 2.70270270e-02,\n        2.28690229e-02, 2.42550243e-02, 2.14830215e-02, 2.21760222e-02,\n        4.57380457e-02, 2.91060291e-02, 5.12820513e-02],\n       [3.15186441e+00, 3.50813559e+01, 3.47118644e-01, 3.28813559e-01,\n        6.57627119e-02, 6.23728814e-02, 5.96610169e-02, 5.49152542e-02,\n        6.71186441e-02, 7.32203390e-02, 4.67796610e-02, 6.10169492e-02,\n        3.93220339e-02, 7.79661017e-02, 5.62711864e-02, 7.45762712e-02,\n        4.27118644e-02, 5.55932203e-02, 6.50847458e-02, 5.01694915e-02,\n        5.49152542e-02, 7.93220339e-02, 9.49152542e-02, 7.38983051e-02,\n        7.79661017e-02, 7.52542373e-02, 6.71186441e-02, 7.11864407e-02,\n        9.55932203e-02, 8.27118644e-02, 8.47457627e-02, 8.67796610e-02,\n        7.05084746e-02, 5.62711864e-02, 5.49152542e-02, 2.37288136e-02,\n        5.15254237e-02, 2.37288136e-02, 2.37288136e-02, 2.91525424e-02,\n        5.01694915e-02, 7.38983051e-02, 2.50847458e-02, 2.10169492e-02,\n        2.10169492e-02, 3.05084746e-02, 1.96610169e-02, 2.44067797e-02,\n        4.54237288e-02, 2.10169492e-02, 5.76271186e-02, 2.16949153e-02,\n        2.50847458e-02, 2.37288136e-02, 3.05084746e-02, 2.57627119e-02,\n        5.42372881e-02, 3.25423729e-02, 4.47457627e-02]])"
          },
          "metadata": {}
        }
      ],
      "execution_count": 104,
      "metadata": {
        "jupyter": {
          "source_hidden": false,
          "outputs_hidden": false
        },
        "nteract": {
          "transient": {
            "deleting": false
          }
        },
        "gather": {
          "logged": 1643623510745
        }
      }
    },
    {
      "cell_type": "code",
      "source": [
        "y_pred = kmeans.fit_predict(df5)\r\n",
        "y_pred[:20]"
      ],
      "outputs": [
        {
          "output_type": "execute_result",
          "execution_count": 107,
          "data": {
            "text/plain": "array([2, 3, 0, 3, 3, 3, 0, 0, 0, 0, 0, 1, 1, 1, 1, 1, 3, 3, 1, 0],\n      dtype=int32)"
          },
          "metadata": {}
        }
      ],
      "execution_count": 107,
      "metadata": {
        "jupyter": {
          "source_hidden": false,
          "outputs_hidden": false
        },
        "nteract": {
          "transient": {
            "deleting": false
          }
        },
        "gather": {
          "logged": 1643623652151
        }
      }
    },
    {
      "cell_type": "code",
      "source": [
        "df_final = df5\r\n",
        "df_final['Cluster'] = y_pred\r\n",
        "df_final.head()"
      ],
      "outputs": [
        {
          "output_type": "execute_result",
          "execution_count": 109,
          "data": {
            "text/plain": "   Education  Age  Female  Male   farming   law and public policy  \\\n0          4   24       1     0         0                       0   \n1          5   33       0     0         0                       0   \n2          3   45       1     0         0                       0   \n3          0   38       0     0         1                       0   \n4          4   36       0     1         0                       0   \n\n   architecture and engineering  arts  business  communications  ...  \\\n0                             0     1         0               0  ...   \n1                             0     0         0               0  ...   \n2                             0     0         0               0  ...   \n3                             0     0         0               0  ...   \n4                             0     0         0               0  ...   \n\n   Genealogy  Jewelry Making  Martial Arts  Movie Watching  \\\n0          0               0             0               0   \n1          0               0             0               0   \n2          1               0             0               0   \n3          0               0             0               0   \n4          0               0             0               0   \n\n   Religious Activities  Traveling  Video Games  Woodworking  Yoga  Cluster  \n0                     0          0            0            1     0        2  \n1                     0          0            0            1     0        3  \n2                     0          0            0            0     0        0  \n3                     0          0            0            1     0        3  \n4                     0          0            1            0     0        3  \n\n[5 rows x 60 columns]",
            "text/html": "<div>\n<style scoped>\n    .dataframe tbody tr th:only-of-type {\n        vertical-align: middle;\n    }\n\n    .dataframe tbody tr th {\n        vertical-align: top;\n    }\n\n    .dataframe thead th {\n        text-align: right;\n    }\n</style>\n<table border=\"1\" class=\"dataframe\">\n  <thead>\n    <tr style=\"text-align: right;\">\n      <th></th>\n      <th>Education</th>\n      <th>Age</th>\n      <th>Female</th>\n      <th>Male</th>\n      <th>farming</th>\n      <th>law and public policy</th>\n      <th>architecture and engineering</th>\n      <th>arts</th>\n      <th>business</th>\n      <th>communications</th>\n      <th>...</th>\n      <th>Genealogy</th>\n      <th>Jewelry Making</th>\n      <th>Martial Arts</th>\n      <th>Movie Watching</th>\n      <th>Religious Activities</th>\n      <th>Traveling</th>\n      <th>Video Games</th>\n      <th>Woodworking</th>\n      <th>Yoga</th>\n      <th>Cluster</th>\n    </tr>\n  </thead>\n  <tbody>\n    <tr>\n      <th>0</th>\n      <td>4</td>\n      <td>24</td>\n      <td>1</td>\n      <td>0</td>\n      <td>0</td>\n      <td>0</td>\n      <td>0</td>\n      <td>1</td>\n      <td>0</td>\n      <td>0</td>\n      <td>...</td>\n      <td>0</td>\n      <td>0</td>\n      <td>0</td>\n      <td>0</td>\n      <td>0</td>\n      <td>0</td>\n      <td>0</td>\n      <td>1</td>\n      <td>0</td>\n      <td>2</td>\n    </tr>\n    <tr>\n      <th>1</th>\n      <td>5</td>\n      <td>33</td>\n      <td>0</td>\n      <td>0</td>\n      <td>0</td>\n      <td>0</td>\n      <td>0</td>\n      <td>0</td>\n      <td>0</td>\n      <td>0</td>\n      <td>...</td>\n      <td>0</td>\n      <td>0</td>\n      <td>0</td>\n      <td>0</td>\n      <td>0</td>\n      <td>0</td>\n      <td>0</td>\n      <td>1</td>\n      <td>0</td>\n      <td>3</td>\n    </tr>\n    <tr>\n      <th>2</th>\n      <td>3</td>\n      <td>45</td>\n      <td>1</td>\n      <td>0</td>\n      <td>0</td>\n      <td>0</td>\n      <td>0</td>\n      <td>0</td>\n      <td>0</td>\n      <td>0</td>\n      <td>...</td>\n      <td>1</td>\n      <td>0</td>\n      <td>0</td>\n      <td>0</td>\n      <td>0</td>\n      <td>0</td>\n      <td>0</td>\n      <td>0</td>\n      <td>0</td>\n      <td>0</td>\n    </tr>\n    <tr>\n      <th>3</th>\n      <td>0</td>\n      <td>38</td>\n      <td>0</td>\n      <td>0</td>\n      <td>1</td>\n      <td>0</td>\n      <td>0</td>\n      <td>0</td>\n      <td>0</td>\n      <td>0</td>\n      <td>...</td>\n      <td>0</td>\n      <td>0</td>\n      <td>0</td>\n      <td>0</td>\n      <td>0</td>\n      <td>0</td>\n      <td>0</td>\n      <td>1</td>\n      <td>0</td>\n      <td>3</td>\n    </tr>\n    <tr>\n      <th>4</th>\n      <td>4</td>\n      <td>36</td>\n      <td>0</td>\n      <td>1</td>\n      <td>0</td>\n      <td>0</td>\n      <td>0</td>\n      <td>0</td>\n      <td>0</td>\n      <td>0</td>\n      <td>...</td>\n      <td>0</td>\n      <td>0</td>\n      <td>0</td>\n      <td>0</td>\n      <td>0</td>\n      <td>0</td>\n      <td>1</td>\n      <td>0</td>\n      <td>0</td>\n      <td>3</td>\n    </tr>\n  </tbody>\n</table>\n<p>5 rows × 60 columns</p>\n</div>"
          },
          "metadata": {}
        }
      ],
      "execution_count": 109,
      "metadata": {
        "jupyter": {
          "source_hidden": false,
          "outputs_hidden": false
        },
        "nteract": {
          "transient": {
            "deleting": false
          }
        },
        "gather": {
          "logged": 1643623746585
        }
      }
    },
    {
      "cell_type": "code",
      "source": [
        "df_a = df_final[df_final.Cluster==0]\r\n",
        "df_b = df_final[df_final.Cluster==1]\r\n",
        "df_c = df_final[df_final.Cluster==2]\r\n",
        "df_d = df_final[df_final.Cluster==3]\r\n",
        "plt.scatter(df_a.Age, df_a['Education'], color='green')\r\n",
        "plt.scatter(df_b.Age, df_b['Education'], color='blue')\r\n",
        "plt.scatter(df_c.Age, df_c['Education'], color='red')\r\n",
        "plt.scatter(df_d.Age, df_d['Education'], color='yellow')\r\n",
        "plt.scatter(kmeans.cluster_centers_[:,0], kmeans.cluster_centers_[:,1], color='white', marker='*')\r\n",
        "plt.xlabel('Age')\r\n",
        "plt.ylabel('Education')\r\n",
        "plt.legend()"
      ],
      "outputs": [
        {
          "output_type": "stream",
          "name": "stderr",
          "text": "No handles with labels found to put in legend.\n"
        },
        {
          "output_type": "execute_result",
          "execution_count": 115,
          "data": {
            "text/plain": "<matplotlib.legend.Legend at 0x7f70e91b6898>"
          },
          "metadata": {}
        },
        {
          "output_type": "display_data",
          "data": {
            "text/plain": "<Figure size 432x288 with 1 Axes>",
            "image/png": "[encoded data removed]"
          },
          "metadata": {}
        }
      ],
      "execution_count": 115,
      "metadata": {
        "jupyter": {
          "source_hidden": false,
          "outputs_hidden": false
        },
        "nteract": {
          "transient": {
            "deleting": false
          }
        },
        "gather": {
          "logged": 1643624337085
        }
      }
    },
    {
      "cell_type": "markdown",
      "source": [
        "# Performing dimensionality reduction and trying to visualize clusters."
      ],
      "metadata": {
        "nteract": {
          "transient": {
            "deleting": false
          }
        }
      }
    },
    {
      "cell_type": "code",
      "source": [
        "from sklearn.decomposition import PCA\r\n",
        "\r\n",
        "pca = PCA(2)\r\n",
        "\r\n",
        "reduced_df = pca.fit_transform(df_final)\r\n",
        "reduced_df.shape"
      ],
      "outputs": [
        {
          "output_type": "execute_result",
          "execution_count": 116,
          "data": {
            "text/plain": "(5781, 2)"
          },
          "metadata": {}
        }
      ],
      "execution_count": 116,
      "metadata": {
        "jupyter": {
          "source_hidden": false,
          "outputs_hidden": false
        },
        "nteract": {
          "transient": {
            "deleting": false
          }
        },
        "gather": {
          "logged": 1643624844097
        }
      }
    },
    {
      "cell_type": "markdown",
      "source": [
        "## Performing clustering in the reduced df."
      ],
      "metadata": {
        "nteract": {
          "transient": {
            "deleting": false
          }
        }
      }
    },
    {
      "cell_type": "code",
      "source": [
        "km_reduced = KMeans(n_clusters=10)\r\n",
        "\r\n",
        "label = km_reduced.fit_predict(reduced_df)\r\n",
        "print(label[:30])"
      ],
      "outputs": [
        {
          "output_type": "stream",
          "name": "stdout",
          "text": "[6 8 5 0 8 8 2 2 2 2 2 3 3 3 3 3 0 0 1 7 9 9 7 7 7 7 7 5 1 1]\n"
        }
      ],
      "execution_count": 119,
      "metadata": {
        "jupyter": {
          "source_hidden": false,
          "outputs_hidden": false
        },
        "nteract": {
          "transient": {
            "deleting": false
          }
        },
        "gather": {
          "logged": 1643625126793
        }
      }
    },
    {
      "cell_type": "markdown",
      "source": [
        "### Plotting the reduced cluster graph"
      ],
      "metadata": {
        "nteract": {
          "transient": {
            "deleting": false
          }
        }
      }
    },
    {
      "cell_type": "code",
      "source": [
        "#Getting unique labels\r\n",
        "centroids = km_reduced.cluster_centers_\r\n",
        "u_labels = np.unique(label)\r\n",
        " \r\n",
        "#plotting the results:\r\n",
        " \r\n",
        "for i in u_labels:\r\n",
        "    plt.scatter(reduced_df[label == i , 0] , reduced_df[label == i , 1] , label = i)\r\n",
        "plt.scatter(centroids[:,0] , centroids[:,1] , s = 80, color = 'k')\r\n",
        "plt.legend()\r\n",
        "plt.figure(figsize=(100, 100), dpi=80)\r\n",
        "plt.show()"
      ],
      "outputs": [
        {
          "output_type": "display_data",
          "data": {
            "text/plain": "<Figure size 432x288 with 1 Axes>",
            "image/png": "[encoded data removed]"
          },
          "metadata": {}
        },
        {
          "output_type": "display_data",
          "data": {
            "text/plain": "<Figure size 8000x8000 with 0 Axes>"
          },
          "metadata": {}
        }
      ],
      "execution_count": 123,
      "metadata": {
        "jupyter": {
          "source_hidden": false,
          "outputs_hidden": false
        },
        "nteract": {
          "transient": {
            "deleting": false
          }
        },
        "gather": {
          "logged": 1643625780330
        }
      }
    },
    {
      "cell_type": "markdown",
      "source": [
        "# Finding the best no. of clusters using the elbow method."
      ],
      "metadata": {
        "nteract": {
          "transient": {
            "deleting": false
          }
        }
      }
    },
    {
      "cell_type": "code",
      "source": [
        "distortions = []\r\n",
        "K = range(1, 15)\r\n",
        "for k in K:\r\n",
        "    kmeanModel = KMeans(n_clusters=k)\r\n",
        "    kmeanModel.fit(reduced_df)\r\n",
        "    distortions.append(kmeanModel.inertia_)"
      ],
      "outputs": [],
      "execution_count": 126,
      "metadata": {
        "jupyter": {
          "source_hidden": false,
          "outputs_hidden": false
        },
        "nteract": {
          "transient": {
            "deleting": false
          }
        },
        "gather": {
          "logged": 1643626183311
        }
      }
    },
    {
      "cell_type": "code",
      "source": [
        "plt.figure(figsize=(16,8))\r\n",
        "plt.plot(K, distortions, 'bx-')\r\n",
        "plt.xlabel('k')\r\n",
        "plt.ylabel('Distortion')\r\n",
        "plt.title('The Elbow Method showing the optimal k')\r\n",
        "plt.show()"
      ],
      "outputs": [
        {
          "output_type": "display_data",
          "data": {
            "text/plain": "<Figure size 1152x576 with 1 Axes>",
            "image/png": "[encoded data removed]"
          },
          "metadata": {}
        }
      ],
      "execution_count": 127,
      "metadata": {
        "jupyter": {
          "source_hidden": false,
          "outputs_hidden": false
        },
        "nteract": {
          "transient": {
            "deleting": false
          }
        },
        "gather": {
          "logged": 1643626189919
        }
      }
    },
    {
      "cell_type": "code",
      "source": [],
      "outputs": [],
      "execution_count": null,
      "metadata": {
        "jupyter": {
          "source_hidden": false,
          "outputs_hidden": false
        },
        "nteract": {
          "transient": {
            "deleting": false
          }
        }
      }
    }
  ],
  "metadata": {
    "kernelspec": {
      "name": "python3-azureml",
      "language": "python",
      "display_name": "Python 3.6 - AzureML"
    },
    "language_info": {
      "name": "python",
      "version": "3.6.9",
      "mimetype": "text/x-python",
      "codemirror_mode": {
        "name": "ipython",
        "version": 3
      },
      "pygments_lexer": "ipython3",
      "nbconvert_exporter": "python",
      "file_extension": ".py"
    },
    "nteract": {
      "version": "nteract-front-end@1.0.0"
    },
    "kernel_info": {
      "name": "python3-azureml"
    },
    "microsoft": {
      "host": {
        "AzureML": {
          "notebookHasBeenCompleted": true
        }
      }
    }
  },
  "nbformat": 4,
  "nbformat_minor": 2
}